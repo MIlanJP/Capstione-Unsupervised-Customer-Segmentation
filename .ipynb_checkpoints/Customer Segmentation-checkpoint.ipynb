{
 "cells": [
  {
   "cell_type": "markdown",
   "id": "8c06718c",
   "metadata": {},
   "source": [
    "## <b> Problem Description </b>\n",
    "\n",
    "### In this project, your task is to identify major customer segments on a transnational data set which contains all the transactions occurring between 01/12/2010 and 09/12/2011 for a UK-based and registered non-store online retail.The company mainly sells unique all-occasion gifts. Many customers of the company are wholesalers."
   ]
  },
  {
   "cell_type": "markdown",
   "id": "432bf9ee",
   "metadata": {},
   "source": [
    "## <b> Data Description </b>\n",
    "\n",
    "### <b>Attribute Information: </b>\n",
    "\n",
    "* ### InvoiceNo: Invoice number. Nominal, a 6-digit integral number uniquely assigned to each transaction. If this code starts with letter 'c', it indicates a cancellation.\n",
    "* ### StockCode: Product (item) code. Nominal, a 5-digit integral number uniquely assigned to each distinct product.\n",
    "* ### Description: Product (item) name. Nominal.\n",
    "* ### Quantity: The quantities of each product (item) per transaction. Numeric.\n",
    "* ### InvoiceDate: Invice Date and time. Numeric, the day and time when each transaction was generated.\n",
    "* ### UnitPrice: Unit price. Numeric, Product price per unit in sterling.\n",
    "* ### CustomerID: Customer number. Nominal, a 5-digit integral number uniquely assigned to each customer.\n",
    "* ### Country: Country name. Nominal, the name of the country where each customer resides."
   ]
  },
  {
   "cell_type": "code",
   "execution_count": 782,
   "id": "df3afd07",
   "metadata": {
    "ExecuteTime": {
     "end_time": "2022-04-05T15:08:00.206774Z",
     "start_time": "2022-04-05T15:08:00.196348Z"
    }
   },
   "outputs": [],
   "source": [
    "import pandas as pd \n",
    "import numpy as np\n",
    "import matplotlib.pyplot as plt\n",
    "import seaborn as sns\n",
    "import qgrid"
   ]
  },
  {
   "cell_type": "code",
   "execution_count": 783,
   "id": "46815e81",
   "metadata": {
    "ExecuteTime": {
     "end_time": "2022-04-05T15:08:01.706203Z",
     "start_time": "2022-04-05T15:08:00.804845Z"
    }
   },
   "outputs": [
    {
     "data": {
      "text/html": [
       "<div>\n",
       "<style scoped>\n",
       "    .dataframe tbody tr th:only-of-type {\n",
       "        vertical-align: middle;\n",
       "    }\n",
       "\n",
       "    .dataframe tbody tr th {\n",
       "        vertical-align: top;\n",
       "    }\n",
       "\n",
       "    .dataframe thead th {\n",
       "        text-align: right;\n",
       "    }\n",
       "</style>\n",
       "<table border=\"1\" class=\"dataframe\">\n",
       "  <thead>\n",
       "    <tr style=\"text-align: right;\">\n",
       "      <th></th>\n",
       "      <th>InvoiceNo</th>\n",
       "      <th>StockCode</th>\n",
       "      <th>Description</th>\n",
       "      <th>Quantity</th>\n",
       "      <th>InvoiceDate</th>\n",
       "      <th>UnitPrice</th>\n",
       "      <th>CustomerID</th>\n",
       "      <th>Country</th>\n",
       "    </tr>\n",
       "  </thead>\n",
       "  <tbody>\n",
       "    <tr>\n",
       "      <th>0</th>\n",
       "      <td>536365</td>\n",
       "      <td>85123A</td>\n",
       "      <td>WHITE HANGING HEART T-LIGHT HOLDER</td>\n",
       "      <td>6</td>\n",
       "      <td>01-12-2010 08:26</td>\n",
       "      <td>2.55</td>\n",
       "      <td>17850.0</td>\n",
       "      <td>United Kingdom</td>\n",
       "    </tr>\n",
       "    <tr>\n",
       "      <th>1</th>\n",
       "      <td>536365</td>\n",
       "      <td>71053</td>\n",
       "      <td>WHITE METAL LANTERN</td>\n",
       "      <td>6</td>\n",
       "      <td>01-12-2010 08:26</td>\n",
       "      <td>3.39</td>\n",
       "      <td>17850.0</td>\n",
       "      <td>United Kingdom</td>\n",
       "    </tr>\n",
       "    <tr>\n",
       "      <th>2</th>\n",
       "      <td>536365</td>\n",
       "      <td>84406B</td>\n",
       "      <td>CREAM CUPID HEARTS COAT HANGER</td>\n",
       "      <td>8</td>\n",
       "      <td>01-12-2010 08:26</td>\n",
       "      <td>2.75</td>\n",
       "      <td>17850.0</td>\n",
       "      <td>United Kingdom</td>\n",
       "    </tr>\n",
       "    <tr>\n",
       "      <th>3</th>\n",
       "      <td>536365</td>\n",
       "      <td>84029G</td>\n",
       "      <td>KNITTED UNION FLAG HOT WATER BOTTLE</td>\n",
       "      <td>6</td>\n",
       "      <td>01-12-2010 08:26</td>\n",
       "      <td>3.39</td>\n",
       "      <td>17850.0</td>\n",
       "      <td>United Kingdom</td>\n",
       "    </tr>\n",
       "    <tr>\n",
       "      <th>4</th>\n",
       "      <td>536365</td>\n",
       "      <td>84029E</td>\n",
       "      <td>RED WOOLLY HOTTIE WHITE HEART.</td>\n",
       "      <td>6</td>\n",
       "      <td>01-12-2010 08:26</td>\n",
       "      <td>3.39</td>\n",
       "      <td>17850.0</td>\n",
       "      <td>United Kingdom</td>\n",
       "    </tr>\n",
       "    <tr>\n",
       "      <th>...</th>\n",
       "      <td>...</td>\n",
       "      <td>...</td>\n",
       "      <td>...</td>\n",
       "      <td>...</td>\n",
       "      <td>...</td>\n",
       "      <td>...</td>\n",
       "      <td>...</td>\n",
       "      <td>...</td>\n",
       "    </tr>\n",
       "    <tr>\n",
       "      <th>541904</th>\n",
       "      <td>581587</td>\n",
       "      <td>22613</td>\n",
       "      <td>PACK OF 20 SPACEBOY NAPKINS</td>\n",
       "      <td>12</td>\n",
       "      <td>09-12-2011 12:50</td>\n",
       "      <td>0.85</td>\n",
       "      <td>12680.0</td>\n",
       "      <td>France</td>\n",
       "    </tr>\n",
       "    <tr>\n",
       "      <th>541905</th>\n",
       "      <td>581587</td>\n",
       "      <td>22899</td>\n",
       "      <td>CHILDREN'S APRON DOLLY GIRL</td>\n",
       "      <td>6</td>\n",
       "      <td>09-12-2011 12:50</td>\n",
       "      <td>2.10</td>\n",
       "      <td>12680.0</td>\n",
       "      <td>France</td>\n",
       "    </tr>\n",
       "    <tr>\n",
       "      <th>541906</th>\n",
       "      <td>581587</td>\n",
       "      <td>23254</td>\n",
       "      <td>CHILDRENS CUTLERY DOLLY GIRL</td>\n",
       "      <td>4</td>\n",
       "      <td>09-12-2011 12:50</td>\n",
       "      <td>4.15</td>\n",
       "      <td>12680.0</td>\n",
       "      <td>France</td>\n",
       "    </tr>\n",
       "    <tr>\n",
       "      <th>541907</th>\n",
       "      <td>581587</td>\n",
       "      <td>23255</td>\n",
       "      <td>CHILDRENS CUTLERY CIRCUS PARADE</td>\n",
       "      <td>4</td>\n",
       "      <td>09-12-2011 12:50</td>\n",
       "      <td>4.15</td>\n",
       "      <td>12680.0</td>\n",
       "      <td>France</td>\n",
       "    </tr>\n",
       "    <tr>\n",
       "      <th>541908</th>\n",
       "      <td>581587</td>\n",
       "      <td>22138</td>\n",
       "      <td>BAKING SET 9 PIECE RETROSPOT</td>\n",
       "      <td>3</td>\n",
       "      <td>09-12-2011 12:50</td>\n",
       "      <td>4.95</td>\n",
       "      <td>12680.0</td>\n",
       "      <td>France</td>\n",
       "    </tr>\n",
       "  </tbody>\n",
       "</table>\n",
       "<p>541909 rows × 8 columns</p>\n",
       "</div>"
      ],
      "text/plain": [
       "       InvoiceNo StockCode                          Description  Quantity  \\\n",
       "0         536365    85123A   WHITE HANGING HEART T-LIGHT HOLDER         6   \n",
       "1         536365     71053                  WHITE METAL LANTERN         6   \n",
       "2         536365    84406B       CREAM CUPID HEARTS COAT HANGER         8   \n",
       "3         536365    84029G  KNITTED UNION FLAG HOT WATER BOTTLE         6   \n",
       "4         536365    84029E       RED WOOLLY HOTTIE WHITE HEART.         6   \n",
       "...          ...       ...                                  ...       ...   \n",
       "541904    581587     22613          PACK OF 20 SPACEBOY NAPKINS        12   \n",
       "541905    581587     22899         CHILDREN'S APRON DOLLY GIRL          6   \n",
       "541906    581587     23254        CHILDRENS CUTLERY DOLLY GIRL          4   \n",
       "541907    581587     23255      CHILDRENS CUTLERY CIRCUS PARADE         4   \n",
       "541908    581587     22138        BAKING SET 9 PIECE RETROSPOT          3   \n",
       "\n",
       "             InvoiceDate  UnitPrice  CustomerID         Country  \n",
       "0       01-12-2010 08:26       2.55     17850.0  United Kingdom  \n",
       "1       01-12-2010 08:26       3.39     17850.0  United Kingdom  \n",
       "2       01-12-2010 08:26       2.75     17850.0  United Kingdom  \n",
       "3       01-12-2010 08:26       3.39     17850.0  United Kingdom  \n",
       "4       01-12-2010 08:26       3.39     17850.0  United Kingdom  \n",
       "...                  ...        ...         ...             ...  \n",
       "541904  09-12-2011 12:50       0.85     12680.0          France  \n",
       "541905  09-12-2011 12:50       2.10     12680.0          France  \n",
       "541906  09-12-2011 12:50       4.15     12680.0          France  \n",
       "541907  09-12-2011 12:50       4.15     12680.0          France  \n",
       "541908  09-12-2011 12:50       4.95     12680.0          France  \n",
       "\n",
       "[541909 rows x 8 columns]"
      ]
     },
     "execution_count": 783,
     "metadata": {},
     "output_type": "execute_result"
    }
   ],
   "source": [
    "customer_data=pd.read_csv('Online Retail.csv',encoding= 'unicode_escape')\n",
    "customer_data"
   ]
  },
  {
   "cell_type": "code",
   "execution_count": 784,
   "id": "4252ca71",
   "metadata": {
    "ExecuteTime": {
     "end_time": "2022-04-05T15:08:02.383868Z",
     "start_time": "2022-04-05T15:08:02.373873Z"
    }
   },
   "outputs": [
    {
     "data": {
      "text/plain": [
       "(541909, 8)"
      ]
     },
     "execution_count": 784,
     "metadata": {},
     "output_type": "execute_result"
    }
   ],
   "source": [
    "customer_data.shape"
   ]
  },
  {
   "cell_type": "code",
   "execution_count": 785,
   "id": "087703d0",
   "metadata": {
    "ExecuteTime": {
     "end_time": "2022-04-05T15:08:03.030257Z",
     "start_time": "2022-04-05T15:08:02.860492Z"
    }
   },
   "outputs": [
    {
     "name": "stdout",
     "output_type": "stream",
     "text": [
      "<class 'pandas.core.frame.DataFrame'>\n",
      "RangeIndex: 541909 entries, 0 to 541908\n",
      "Data columns (total 8 columns):\n",
      " #   Column       Non-Null Count   Dtype  \n",
      "---  ------       --------------   -----  \n",
      " 0   InvoiceNo    541909 non-null  object \n",
      " 1   StockCode    541909 non-null  object \n",
      " 2   Description  540455 non-null  object \n",
      " 3   Quantity     541909 non-null  int64  \n",
      " 4   InvoiceDate  541909 non-null  object \n",
      " 5   UnitPrice    541909 non-null  float64\n",
      " 6   CustomerID   406829 non-null  float64\n",
      " 7   Country      541909 non-null  object \n",
      "dtypes: float64(2), int64(1), object(5)\n",
      "memory usage: 33.1+ MB\n"
     ]
    }
   ],
   "source": [
    "customer_data.info()"
   ]
  },
  {
   "cell_type": "code",
   "execution_count": 786,
   "id": "48e34d30",
   "metadata": {
    "ExecuteTime": {
     "end_time": "2022-04-05T15:08:03.752046Z",
     "start_time": "2022-04-05T15:08:03.725060Z"
    }
   },
   "outputs": [
    {
     "data": {
      "text/html": [
       "<div>\n",
       "<style scoped>\n",
       "    .dataframe tbody tr th:only-of-type {\n",
       "        vertical-align: middle;\n",
       "    }\n",
       "\n",
       "    .dataframe tbody tr th {\n",
       "        vertical-align: top;\n",
       "    }\n",
       "\n",
       "    .dataframe thead th {\n",
       "        text-align: right;\n",
       "    }\n",
       "</style>\n",
       "<table border=\"1\" class=\"dataframe\">\n",
       "  <thead>\n",
       "    <tr style=\"text-align: right;\">\n",
       "      <th></th>\n",
       "      <th>InvoiceNo</th>\n",
       "      <th>StockCode</th>\n",
       "      <th>Description</th>\n",
       "      <th>Quantity</th>\n",
       "      <th>InvoiceDate</th>\n",
       "      <th>UnitPrice</th>\n",
       "      <th>CustomerID</th>\n",
       "      <th>Country</th>\n",
       "    </tr>\n",
       "  </thead>\n",
       "  <tbody>\n",
       "    <tr>\n",
       "      <th>0</th>\n",
       "      <td>536365</td>\n",
       "      <td>85123A</td>\n",
       "      <td>WHITE HANGING HEART T-LIGHT HOLDER</td>\n",
       "      <td>6</td>\n",
       "      <td>01-12-2010 08:26</td>\n",
       "      <td>2.55</td>\n",
       "      <td>17850.0</td>\n",
       "      <td>United Kingdom</td>\n",
       "    </tr>\n",
       "    <tr>\n",
       "      <th>1</th>\n",
       "      <td>536365</td>\n",
       "      <td>71053</td>\n",
       "      <td>WHITE METAL LANTERN</td>\n",
       "      <td>6</td>\n",
       "      <td>01-12-2010 08:26</td>\n",
       "      <td>3.39</td>\n",
       "      <td>17850.0</td>\n",
       "      <td>United Kingdom</td>\n",
       "    </tr>\n",
       "    <tr>\n",
       "      <th>2</th>\n",
       "      <td>536365</td>\n",
       "      <td>84406B</td>\n",
       "      <td>CREAM CUPID HEARTS COAT HANGER</td>\n",
       "      <td>8</td>\n",
       "      <td>01-12-2010 08:26</td>\n",
       "      <td>2.75</td>\n",
       "      <td>17850.0</td>\n",
       "      <td>United Kingdom</td>\n",
       "    </tr>\n",
       "    <tr>\n",
       "      <th>3</th>\n",
       "      <td>536365</td>\n",
       "      <td>84029G</td>\n",
       "      <td>KNITTED UNION FLAG HOT WATER BOTTLE</td>\n",
       "      <td>6</td>\n",
       "      <td>01-12-2010 08:26</td>\n",
       "      <td>3.39</td>\n",
       "      <td>17850.0</td>\n",
       "      <td>United Kingdom</td>\n",
       "    </tr>\n",
       "    <tr>\n",
       "      <th>4</th>\n",
       "      <td>536365</td>\n",
       "      <td>84029E</td>\n",
       "      <td>RED WOOLLY HOTTIE WHITE HEART.</td>\n",
       "      <td>6</td>\n",
       "      <td>01-12-2010 08:26</td>\n",
       "      <td>3.39</td>\n",
       "      <td>17850.0</td>\n",
       "      <td>United Kingdom</td>\n",
       "    </tr>\n",
       "  </tbody>\n",
       "</table>\n",
       "</div>"
      ],
      "text/plain": [
       "  InvoiceNo StockCode                          Description  Quantity  \\\n",
       "0    536365    85123A   WHITE HANGING HEART T-LIGHT HOLDER         6   \n",
       "1    536365     71053                  WHITE METAL LANTERN         6   \n",
       "2    536365    84406B       CREAM CUPID HEARTS COAT HANGER         8   \n",
       "3    536365    84029G  KNITTED UNION FLAG HOT WATER BOTTLE         6   \n",
       "4    536365    84029E       RED WOOLLY HOTTIE WHITE HEART.         6   \n",
       "\n",
       "        InvoiceDate  UnitPrice  CustomerID         Country  \n",
       "0  01-12-2010 08:26       2.55     17850.0  United Kingdom  \n",
       "1  01-12-2010 08:26       3.39     17850.0  United Kingdom  \n",
       "2  01-12-2010 08:26       2.75     17850.0  United Kingdom  \n",
       "3  01-12-2010 08:26       3.39     17850.0  United Kingdom  \n",
       "4  01-12-2010 08:26       3.39     17850.0  United Kingdom  "
      ]
     },
     "execution_count": 786,
     "metadata": {},
     "output_type": "execute_result"
    }
   ],
   "source": [
    "customer_data.head()"
   ]
  },
  {
   "cell_type": "code",
   "execution_count": 787,
   "id": "a705f61f",
   "metadata": {
    "ExecuteTime": {
     "end_time": "2022-04-05T15:08:04.393541Z",
     "start_time": "2022-04-05T15:08:04.301802Z"
    }
   },
   "outputs": [
    {
     "data": {
      "text/html": [
       "<div>\n",
       "<style scoped>\n",
       "    .dataframe tbody tr th:only-of-type {\n",
       "        vertical-align: middle;\n",
       "    }\n",
       "\n",
       "    .dataframe tbody tr th {\n",
       "        vertical-align: top;\n",
       "    }\n",
       "\n",
       "    .dataframe thead th {\n",
       "        text-align: right;\n",
       "    }\n",
       "</style>\n",
       "<table border=\"1\" class=\"dataframe\">\n",
       "  <thead>\n",
       "    <tr style=\"text-align: right;\">\n",
       "      <th></th>\n",
       "      <th>Quantity</th>\n",
       "      <th>UnitPrice</th>\n",
       "      <th>CustomerID</th>\n",
       "    </tr>\n",
       "  </thead>\n",
       "  <tbody>\n",
       "    <tr>\n",
       "      <th>count</th>\n",
       "      <td>541909.000000</td>\n",
       "      <td>541909.000000</td>\n",
       "      <td>406829.000000</td>\n",
       "    </tr>\n",
       "    <tr>\n",
       "      <th>mean</th>\n",
       "      <td>9.552250</td>\n",
       "      <td>4.611114</td>\n",
       "      <td>15287.690570</td>\n",
       "    </tr>\n",
       "    <tr>\n",
       "      <th>std</th>\n",
       "      <td>218.081158</td>\n",
       "      <td>96.759853</td>\n",
       "      <td>1713.600303</td>\n",
       "    </tr>\n",
       "    <tr>\n",
       "      <th>min</th>\n",
       "      <td>-80995.000000</td>\n",
       "      <td>-11062.060000</td>\n",
       "      <td>12346.000000</td>\n",
       "    </tr>\n",
       "    <tr>\n",
       "      <th>25%</th>\n",
       "      <td>1.000000</td>\n",
       "      <td>1.250000</td>\n",
       "      <td>13953.000000</td>\n",
       "    </tr>\n",
       "    <tr>\n",
       "      <th>50%</th>\n",
       "      <td>3.000000</td>\n",
       "      <td>2.080000</td>\n",
       "      <td>15152.000000</td>\n",
       "    </tr>\n",
       "    <tr>\n",
       "      <th>75%</th>\n",
       "      <td>10.000000</td>\n",
       "      <td>4.130000</td>\n",
       "      <td>16791.000000</td>\n",
       "    </tr>\n",
       "    <tr>\n",
       "      <th>max</th>\n",
       "      <td>80995.000000</td>\n",
       "      <td>38970.000000</td>\n",
       "      <td>18287.000000</td>\n",
       "    </tr>\n",
       "  </tbody>\n",
       "</table>\n",
       "</div>"
      ],
      "text/plain": [
       "            Quantity      UnitPrice     CustomerID\n",
       "count  541909.000000  541909.000000  406829.000000\n",
       "mean        9.552250       4.611114   15287.690570\n",
       "std       218.081158      96.759853    1713.600303\n",
       "min    -80995.000000  -11062.060000   12346.000000\n",
       "25%         1.000000       1.250000   13953.000000\n",
       "50%         3.000000       2.080000   15152.000000\n",
       "75%        10.000000       4.130000   16791.000000\n",
       "max     80995.000000   38970.000000   18287.000000"
      ]
     },
     "execution_count": 787,
     "metadata": {},
     "output_type": "execute_result"
    }
   ],
   "source": [
    "customer_data.describe()"
   ]
  },
  {
   "cell_type": "markdown",
   "id": "a909d831",
   "metadata": {},
   "source": [
    "# Data Cleaning"
   ]
  },
  {
   "cell_type": "code",
   "execution_count": 788,
   "id": "faa5bc8f",
   "metadata": {
    "ExecuteTime": {
     "end_time": "2022-04-05T15:08:05.478012Z",
     "start_time": "2022-04-05T15:08:05.316577Z"
    }
   },
   "outputs": [
    {
     "data": {
      "text/html": [
       "<div>\n",
       "<style scoped>\n",
       "    .dataframe tbody tr th:only-of-type {\n",
       "        vertical-align: middle;\n",
       "    }\n",
       "\n",
       "    .dataframe tbody tr th {\n",
       "        vertical-align: top;\n",
       "    }\n",
       "\n",
       "    .dataframe thead th {\n",
       "        text-align: right;\n",
       "    }\n",
       "</style>\n",
       "<table border=\"1\" class=\"dataframe\">\n",
       "  <thead>\n",
       "    <tr style=\"text-align: right;\">\n",
       "      <th></th>\n",
       "      <th>0</th>\n",
       "    </tr>\n",
       "  </thead>\n",
       "  <tbody>\n",
       "    <tr>\n",
       "      <th>InvoiceNo</th>\n",
       "      <td>0.000000</td>\n",
       "    </tr>\n",
       "    <tr>\n",
       "      <th>StockCode</th>\n",
       "      <td>0.000000</td>\n",
       "    </tr>\n",
       "    <tr>\n",
       "      <th>Description</th>\n",
       "      <td>0.002683</td>\n",
       "    </tr>\n",
       "    <tr>\n",
       "      <th>Quantity</th>\n",
       "      <td>0.000000</td>\n",
       "    </tr>\n",
       "    <tr>\n",
       "      <th>InvoiceDate</th>\n",
       "      <td>0.000000</td>\n",
       "    </tr>\n",
       "    <tr>\n",
       "      <th>UnitPrice</th>\n",
       "      <td>0.000000</td>\n",
       "    </tr>\n",
       "    <tr>\n",
       "      <th>CustomerID</th>\n",
       "      <td>0.249267</td>\n",
       "    </tr>\n",
       "    <tr>\n",
       "      <th>Country</th>\n",
       "      <td>0.000000</td>\n",
       "    </tr>\n",
       "  </tbody>\n",
       "</table>\n",
       "</div>"
      ],
      "text/plain": [
       "                    0\n",
       "InvoiceNo    0.000000\n",
       "StockCode    0.000000\n",
       "Description  0.002683\n",
       "Quantity     0.000000\n",
       "InvoiceDate  0.000000\n",
       "UnitPrice    0.000000\n",
       "CustomerID   0.249267\n",
       "Country      0.000000"
      ]
     },
     "execution_count": 788,
     "metadata": {},
     "output_type": "execute_result"
    }
   ],
   "source": [
    "pd.DataFrame(customer_data.isna().mean())"
   ]
  },
  {
   "cell_type": "markdown",
   "id": "2ab2f569",
   "metadata": {},
   "source": [
    "### 25 % of items purchase are not assigned to  Customers\n",
    "- Hence there is no use of having the data with out customer assignment\n",
    "- So its better to Delete them from data frame"
   ]
  },
  {
   "cell_type": "code",
   "execution_count": 789,
   "id": "3de270fe",
   "metadata": {
    "ExecuteTime": {
     "end_time": "2022-04-05T15:08:06.489049Z",
     "start_time": "2022-04-05T15:08:06.412407Z"
    }
   },
   "outputs": [],
   "source": [
    "customer_data.dropna(subset=['CustomerID'],inplace=True)\n"
   ]
  },
  {
   "cell_type": "code",
   "execution_count": 790,
   "id": "5e218183",
   "metadata": {
    "ExecuteTime": {
     "end_time": "2022-04-05T15:08:06.993732Z",
     "start_time": "2022-04-05T15:08:06.853070Z"
    }
   },
   "outputs": [
    {
     "data": {
      "text/plain": [
       "InvoiceNo      0\n",
       "StockCode      0\n",
       "Description    0\n",
       "Quantity       0\n",
       "InvoiceDate    0\n",
       "UnitPrice      0\n",
       "CustomerID     0\n",
       "Country        0\n",
       "dtype: int64"
      ]
     },
     "execution_count": 790,
     "metadata": {},
     "output_type": "execute_result"
    }
   ],
   "source": [
    "customer_data.isna().sum()"
   ]
  },
  {
   "cell_type": "markdown",
   "id": "b6ee06fa",
   "metadata": {},
   "source": [
    "- There are no null values in the dataset"
   ]
  },
  {
   "cell_type": "markdown",
   "id": "f2c42013",
   "metadata": {
    "ExecuteTime": {
     "end_time": "2022-04-04T08:58:49.402166Z",
     "start_time": "2022-04-04T08:58:49.337934Z"
    }
   },
   "source": [
    "## Exploring Countries contribution to statistics in data"
   ]
  },
  {
   "cell_type": "code",
   "execution_count": 791,
   "id": "9e6bada0",
   "metadata": {
    "ExecuteTime": {
     "end_time": "2022-04-05T15:08:08.754975Z",
     "start_time": "2022-04-05T15:08:08.500657Z"
    }
   },
   "outputs": [
    {
     "data": {
      "text/html": [
       "<div>\n",
       "<style scoped>\n",
       "    .dataframe tbody tr th:only-of-type {\n",
       "        vertical-align: middle;\n",
       "    }\n",
       "\n",
       "    .dataframe tbody tr th {\n",
       "        vertical-align: top;\n",
       "    }\n",
       "\n",
       "    .dataframe thead th {\n",
       "        text-align: right;\n",
       "    }\n",
       "</style>\n",
       "<table border=\"1\" class=\"dataframe\">\n",
       "  <thead>\n",
       "    <tr style=\"text-align: right;\">\n",
       "      <th></th>\n",
       "      <th>Country</th>\n",
       "      <th>Count</th>\n",
       "    </tr>\n",
       "  </thead>\n",
       "  <tbody>\n",
       "    <tr>\n",
       "      <th>0</th>\n",
       "      <td>United Kingdom</td>\n",
       "      <td>19857</td>\n",
       "    </tr>\n",
       "    <tr>\n",
       "      <th>1</th>\n",
       "      <td>Germany</td>\n",
       "      <td>603</td>\n",
       "    </tr>\n",
       "    <tr>\n",
       "      <th>2</th>\n",
       "      <td>France</td>\n",
       "      <td>458</td>\n",
       "    </tr>\n",
       "    <tr>\n",
       "      <th>3</th>\n",
       "      <td>EIRE</td>\n",
       "      <td>319</td>\n",
       "    </tr>\n",
       "    <tr>\n",
       "      <th>4</th>\n",
       "      <td>Belgium</td>\n",
       "      <td>119</td>\n",
       "    </tr>\n",
       "    <tr>\n",
       "      <th>5</th>\n",
       "      <td>Spain</td>\n",
       "      <td>105</td>\n",
       "    </tr>\n",
       "    <tr>\n",
       "      <th>6</th>\n",
       "      <td>Netherlands</td>\n",
       "      <td>101</td>\n",
       "    </tr>\n",
       "    <tr>\n",
       "      <th>7</th>\n",
       "      <td>Switzerland</td>\n",
       "      <td>71</td>\n",
       "    </tr>\n",
       "    <tr>\n",
       "      <th>8</th>\n",
       "      <td>Portugal</td>\n",
       "      <td>70</td>\n",
       "    </tr>\n",
       "    <tr>\n",
       "      <th>9</th>\n",
       "      <td>Australia</td>\n",
       "      <td>69</td>\n",
       "    </tr>\n",
       "    <tr>\n",
       "      <th>10</th>\n",
       "      <td>Italy</td>\n",
       "      <td>55</td>\n",
       "    </tr>\n",
       "    <tr>\n",
       "      <th>11</th>\n",
       "      <td>Finland</td>\n",
       "      <td>48</td>\n",
       "    </tr>\n",
       "    <tr>\n",
       "      <th>12</th>\n",
       "      <td>Sweden</td>\n",
       "      <td>46</td>\n",
       "    </tr>\n",
       "    <tr>\n",
       "      <th>13</th>\n",
       "      <td>Norway</td>\n",
       "      <td>40</td>\n",
       "    </tr>\n",
       "    <tr>\n",
       "      <th>14</th>\n",
       "      <td>Channel Islands</td>\n",
       "      <td>33</td>\n",
       "    </tr>\n",
       "    <tr>\n",
       "      <th>15</th>\n",
       "      <td>Japan</td>\n",
       "      <td>28</td>\n",
       "    </tr>\n",
       "    <tr>\n",
       "      <th>16</th>\n",
       "      <td>Poland</td>\n",
       "      <td>24</td>\n",
       "    </tr>\n",
       "    <tr>\n",
       "      <th>17</th>\n",
       "      <td>Denmark</td>\n",
       "      <td>21</td>\n",
       "    </tr>\n",
       "    <tr>\n",
       "      <th>18</th>\n",
       "      <td>Cyprus</td>\n",
       "      <td>20</td>\n",
       "    </tr>\n",
       "    <tr>\n",
       "      <th>19</th>\n",
       "      <td>Austria</td>\n",
       "      <td>19</td>\n",
       "    </tr>\n",
       "    <tr>\n",
       "      <th>20</th>\n",
       "      <td>Malta</td>\n",
       "      <td>10</td>\n",
       "    </tr>\n",
       "    <tr>\n",
       "      <th>21</th>\n",
       "      <td>Singapore</td>\n",
       "      <td>10</td>\n",
       "    </tr>\n",
       "    <tr>\n",
       "      <th>22</th>\n",
       "      <td>Unspecified</td>\n",
       "      <td>8</td>\n",
       "    </tr>\n",
       "    <tr>\n",
       "      <th>23</th>\n",
       "      <td>Iceland</td>\n",
       "      <td>7</td>\n",
       "    </tr>\n",
       "    <tr>\n",
       "      <th>24</th>\n",
       "      <td>USA</td>\n",
       "      <td>7</td>\n",
       "    </tr>\n",
       "    <tr>\n",
       "      <th>25</th>\n",
       "      <td>Israel</td>\n",
       "      <td>6</td>\n",
       "    </tr>\n",
       "    <tr>\n",
       "      <th>26</th>\n",
       "      <td>Greece</td>\n",
       "      <td>6</td>\n",
       "    </tr>\n",
       "    <tr>\n",
       "      <th>27</th>\n",
       "      <td>Canada</td>\n",
       "      <td>6</td>\n",
       "    </tr>\n",
       "    <tr>\n",
       "      <th>28</th>\n",
       "      <td>Czech Republic</td>\n",
       "      <td>5</td>\n",
       "    </tr>\n",
       "    <tr>\n",
       "      <th>29</th>\n",
       "      <td>European Community</td>\n",
       "      <td>5</td>\n",
       "    </tr>\n",
       "    <tr>\n",
       "      <th>30</th>\n",
       "      <td>Lithuania</td>\n",
       "      <td>4</td>\n",
       "    </tr>\n",
       "    <tr>\n",
       "      <th>31</th>\n",
       "      <td>United Arab Emirates</td>\n",
       "      <td>3</td>\n",
       "    </tr>\n",
       "    <tr>\n",
       "      <th>32</th>\n",
       "      <td>Saudi Arabia</td>\n",
       "      <td>2</td>\n",
       "    </tr>\n",
       "    <tr>\n",
       "      <th>33</th>\n",
       "      <td>Bahrain</td>\n",
       "      <td>2</td>\n",
       "    </tr>\n",
       "    <tr>\n",
       "      <th>34</th>\n",
       "      <td>Lebanon</td>\n",
       "      <td>1</td>\n",
       "    </tr>\n",
       "    <tr>\n",
       "      <th>35</th>\n",
       "      <td>RSA</td>\n",
       "      <td>1</td>\n",
       "    </tr>\n",
       "    <tr>\n",
       "      <th>36</th>\n",
       "      <td>Brazil</td>\n",
       "      <td>1</td>\n",
       "    </tr>\n",
       "  </tbody>\n",
       "</table>\n",
       "</div>"
      ],
      "text/plain": [
       "                 Country  Count\n",
       "0         United Kingdom  19857\n",
       "1                Germany    603\n",
       "2                 France    458\n",
       "3                   EIRE    319\n",
       "4                Belgium    119\n",
       "5                  Spain    105\n",
       "6            Netherlands    101\n",
       "7            Switzerland     71\n",
       "8               Portugal     70\n",
       "9              Australia     69\n",
       "10                 Italy     55\n",
       "11               Finland     48\n",
       "12                Sweden     46\n",
       "13                Norway     40\n",
       "14       Channel Islands     33\n",
       "15                 Japan     28\n",
       "16                Poland     24\n",
       "17               Denmark     21\n",
       "18                Cyprus     20\n",
       "19               Austria     19\n",
       "20                 Malta     10\n",
       "21             Singapore     10\n",
       "22           Unspecified      8\n",
       "23               Iceland      7\n",
       "24                   USA      7\n",
       "25                Israel      6\n",
       "26                Greece      6\n",
       "27                Canada      6\n",
       "28        Czech Republic      5\n",
       "29    European Community      5\n",
       "30             Lithuania      4\n",
       "31  United Arab Emirates      3\n",
       "32          Saudi Arabia      2\n",
       "33               Bahrain      2\n",
       "34               Lebanon      1\n",
       "35                   RSA      1\n",
       "36                Brazil      1"
      ]
     },
     "execution_count": 791,
     "metadata": {},
     "output_type": "execute_result"
    }
   ],
   "source": [
    "country_grouped_data=customer_data.groupby([\"InvoiceNo\",\"Country\"]).count().reset_index().\\\n",
    "groupby(\"Country\").count()[\"InvoiceNo\"].reset_index().\\\n",
    "rename(columns={\"InvoiceNo\":\"Count\"}).sort_values(\"Count\",ascending=False)\\\n",
    ".reset_index().drop('index',axis=1)\n",
    "country_grouped_data"
   ]
  },
  {
   "cell_type": "markdown",
   "id": "adb7909d",
   "metadata": {},
   "source": [
    "## total there are 36 countries making purchases"
   ]
  },
  {
   "cell_type": "code",
   "execution_count": 792,
   "id": "836e275f",
   "metadata": {
    "ExecuteTime": {
     "end_time": "2022-04-05T15:08:10.187693Z",
     "start_time": "2022-04-05T15:08:09.884456Z"
    }
   },
   "outputs": [
    {
     "data": {
      "text/plain": [
       "<AxesSubplot:xlabel='Country', ylabel='Count'>"
      ]
     },
     "execution_count": 792,
     "metadata": {},
     "output_type": "execute_result"
    },
    {
     "data": {
      "image/png": "[encoded data removed]",
      "text/plain": [
       "<Figure size 2000x600 with 1 Axes>"
      ]
     },
     "metadata": {
      "needs_background": "light"
     },
     "output_type": "display_data"
    }
   ],
   "source": [
    "plt.figure(figsize=(10,3),dpi=200)\n",
    "plt.xticks(rotation=90)\n",
    "sns.barplot(data=country_grouped_data.head(10),x=\"Country\",y=\"Count\")"
   ]
  },
  {
   "cell_type": "markdown",
   "id": "47dcbf70",
   "metadata": {},
   "source": [
    "- United Kingdom is making most of the purchases compared to other countries"
   ]
  },
  {
   "cell_type": "code",
   "execution_count": 793,
   "id": "9829db63",
   "metadata": {
    "ExecuteTime": {
     "end_time": "2022-04-05T15:08:11.543609Z",
     "start_time": "2022-04-05T15:08:10.876436Z"
    }
   },
   "outputs": [
    {
     "data": {
      "text/plain": [
       "<AxesSubplot:xlabel='Country'>"
      ]
     },
     "execution_count": 793,
     "metadata": {},
     "output_type": "execute_result"
    },
    {
     "data": {
      "image/png": "[encoded data removed]",
      "text/plain": [
       "<Figure size 3000x1000 with 1 Axes>"
      ]
     },
     "metadata": {
      "needs_background": "light"
     },
     "output_type": "display_data"
    }
   ],
   "source": [
    "average_items_purchase_country_wise=customer_data.groupby([\"InvoiceNo\",\"Country\"]).count().groupby(\"Country\").mean()[\"Quantity\"]\n",
    "country_with20_min_invoices=country_grouped_data[country_grouped_data[\"Count\"]>19].Country.values\n",
    "average_items_purchase_country_wise=\\\n",
    "    average_items_purchase_country_wise\\\n",
    "    [average_items_purchase_country_wise.index.isin(country_with20_min_invoices)].sort_values(ascending=False)\n",
    "\n",
    "plt.figure(figsize=(15,5),dpi=200)\n",
    "plt.xticks(rotation=90)\n",
    "sns.barplot(y=average_items_purchase_country_wise.values,x=average_items_purchase_country_wise.index)"
   ]
  },
  {
   "cell_type": "markdown",
   "id": "178ed92e",
   "metadata": {},
   "source": [
    "- Above is the bar graph of the average items purchased from countries that are having more than 20 transaction (more than 20 invoices)"
   ]
  },
  {
   "cell_type": "markdown",
   "id": "847af1b0",
   "metadata": {},
   "source": [
    "# Removing items from uncanceled list that came back for cancellation"
   ]
  },
  {
   "cell_type": "code",
   "execution_count": 794,
   "id": "37cd2d09",
   "metadata": {
    "ExecuteTime": {
     "end_time": "2022-04-05T15:28:02.305196Z",
     "start_time": "2022-04-05T15:08:13.516422Z"
    },
    "scrolled": false
   },
   "outputs": [
    {
     "data": {
      "text/html": [
       "<div>\n",
       "<style scoped>\n",
       "    .dataframe tbody tr th:only-of-type {\n",
       "        vertical-align: middle;\n",
       "    }\n",
       "\n",
       "    .dataframe tbody tr th {\n",
       "        vertical-align: top;\n",
       "    }\n",
       "\n",
       "    .dataframe thead th {\n",
       "        text-align: right;\n",
       "    }\n",
       "</style>\n",
       "<table border=\"1\" class=\"dataframe\">\n",
       "  <thead>\n",
       "    <tr style=\"text-align: right;\">\n",
       "      <th></th>\n",
       "      <th>InvoiceNo</th>\n",
       "      <th>StockCode</th>\n",
       "      <th>Description</th>\n",
       "      <th>Quantity</th>\n",
       "      <th>InvoiceDate</th>\n",
       "      <th>UnitPrice</th>\n",
       "      <th>CustomerID</th>\n",
       "      <th>Country</th>\n",
       "      <th>Canceled_status</th>\n",
       "    </tr>\n",
       "  </thead>\n",
       "  <tbody>\n",
       "    <tr>\n",
       "      <th>540421</th>\n",
       "      <td>581483</td>\n",
       "      <td>23843</td>\n",
       "      <td>PAPER CRAFT , LITTLE BIRDIE</td>\n",
       "      <td>80995</td>\n",
       "      <td>09-12-2011 09:15</td>\n",
       "      <td>2.08</td>\n",
       "      <td>16446.0</td>\n",
       "      <td>United Kingdom</td>\n",
       "      <td>ORDER CANCELED</td>\n",
       "    </tr>\n",
       "    <tr>\n",
       "      <th>61619</th>\n",
       "      <td>541431</td>\n",
       "      <td>23166</td>\n",
       "      <td>MEDIUM CERAMIC TOP STORAGE JAR</td>\n",
       "      <td>74215</td>\n",
       "      <td>18-01-2011 10:01</td>\n",
       "      <td>1.04</td>\n",
       "      <td>12346.0</td>\n",
       "      <td>United Kingdom</td>\n",
       "      <td>ORDER CANCELED</td>\n",
       "    </tr>\n",
       "    <tr>\n",
       "      <th>4287</th>\n",
       "      <td>C536757</td>\n",
       "      <td>84347</td>\n",
       "      <td>ROTATING SILVER ANGELS T-LIGHT HLDR</td>\n",
       "      <td>-9360.0</td>\n",
       "      <td>02-12-2010 14:23</td>\n",
       "      <td>0.03</td>\n",
       "      <td>15838.0</td>\n",
       "      <td>United Kingdom</td>\n",
       "      <td>NO PURCHASE RECORD</td>\n",
       "    </tr>\n",
       "    <tr>\n",
       "      <th>52711</th>\n",
       "      <td>540815</td>\n",
       "      <td>21108</td>\n",
       "      <td>FAIRY CAKE FLANNEL ASSORTED COLOUR</td>\n",
       "      <td>3114</td>\n",
       "      <td>11-01-2011 12:55</td>\n",
       "      <td>2.1</td>\n",
       "      <td>15749.0</td>\n",
       "      <td>United Kingdom</td>\n",
       "      <td>SAME ITEM ALREADY PURCHASED</td>\n",
       "    </tr>\n",
       "    <tr>\n",
       "      <th>52710</th>\n",
       "      <td>540815</td>\n",
       "      <td>21175</td>\n",
       "      <td>GIN + TONIC DIET METAL SIGN</td>\n",
       "      <td>2000</td>\n",
       "      <td>11-01-2011 12:55</td>\n",
       "      <td>1.85</td>\n",
       "      <td>15749.0</td>\n",
       "      <td>United Kingdom</td>\n",
       "      <td>SAME ITEM ALREADY PURCHASED</td>\n",
       "    </tr>\n",
       "    <tr>\n",
       "      <th>...</th>\n",
       "      <td>...</td>\n",
       "      <td>...</td>\n",
       "      <td>...</td>\n",
       "      <td>...</td>\n",
       "      <td>...</td>\n",
       "      <td>...</td>\n",
       "      <td>...</td>\n",
       "      <td>...</td>\n",
       "      <td>...</td>\n",
       "    </tr>\n",
       "    <tr>\n",
       "      <th>349851</th>\n",
       "      <td>C567536</td>\n",
       "      <td>85048</td>\n",
       "      <td>15CM CHRISTMAS GLASS BALL 20 LIGHTS</td>\n",
       "      <td>-1.0</td>\n",
       "      <td>21-09-2011 09:52</td>\n",
       "      <td>7.95</td>\n",
       "      <td>14284.0</td>\n",
       "      <td>United Kingdom</td>\n",
       "      <td>NO PURCHASE RECORD</td>\n",
       "    </tr>\n",
       "    <tr>\n",
       "      <th>349871</th>\n",
       "      <td>C567540</td>\n",
       "      <td>23173</td>\n",
       "      <td>REGENCY TEAPOT ROSES</td>\n",
       "      <td>-1.0</td>\n",
       "      <td>21-09-2011 10:00</td>\n",
       "      <td>9.95</td>\n",
       "      <td>12384.0</td>\n",
       "      <td>Switzerland</td>\n",
       "      <td>NO PURCHASE RECORD</td>\n",
       "    </tr>\n",
       "    <tr>\n",
       "      <th>176843</th>\n",
       "      <td>C552029</td>\n",
       "      <td>20982</td>\n",
       "      <td>12 PENCILS TALL TUBE SKULLS</td>\n",
       "      <td>-1.0</td>\n",
       "      <td>05-05-2011 18:11</td>\n",
       "      <td>0.85</td>\n",
       "      <td>15622.0</td>\n",
       "      <td>United Kingdom</td>\n",
       "      <td>NO PURCHASE RECORD</td>\n",
       "    </tr>\n",
       "    <tr>\n",
       "      <th>176839</th>\n",
       "      <td>C552029</td>\n",
       "      <td>22681</td>\n",
       "      <td>FRENCH BLUE METAL DOOR SIGN 6</td>\n",
       "      <td>-1.0</td>\n",
       "      <td>05-05-2011 18:11</td>\n",
       "      <td>1.25</td>\n",
       "      <td>15622.0</td>\n",
       "      <td>United Kingdom</td>\n",
       "      <td>NO PURCHASE RECORD</td>\n",
       "    </tr>\n",
       "    <tr>\n",
       "      <th>141</th>\n",
       "      <td>C536379</td>\n",
       "      <td>D</td>\n",
       "      <td>Discount</td>\n",
       "      <td>-1.0</td>\n",
       "      <td>01-12-2010 09:41</td>\n",
       "      <td>27.5</td>\n",
       "      <td>14527.0</td>\n",
       "      <td>United Kingdom</td>\n",
       "      <td>NO PURCHASE RECORD</td>\n",
       "    </tr>\n",
       "  </tbody>\n",
       "</table>\n",
       "<p>8905 rows × 9 columns</p>\n",
       "</div>"
      ],
      "text/plain": [
       "       InvoiceNo StockCode                          Description Quantity  \\\n",
       "540421    581483     23843          PAPER CRAFT , LITTLE BIRDIE    80995   \n",
       "61619     541431     23166       MEDIUM CERAMIC TOP STORAGE JAR    74215   \n",
       "4287     C536757     84347  ROTATING SILVER ANGELS T-LIGHT HLDR  -9360.0   \n",
       "52711     540815     21108   FAIRY CAKE FLANNEL ASSORTED COLOUR     3114   \n",
       "52710     540815     21175          GIN + TONIC DIET METAL SIGN     2000   \n",
       "...          ...       ...                                  ...      ...   \n",
       "349851   C567536     85048  15CM CHRISTMAS GLASS BALL 20 LIGHTS     -1.0   \n",
       "349871   C567540     23173                REGENCY TEAPOT ROSES      -1.0   \n",
       "176843   C552029     20982          12 PENCILS TALL TUBE SKULLS     -1.0   \n",
       "176839   C552029     22681        FRENCH BLUE METAL DOOR SIGN 6     -1.0   \n",
       "141      C536379         D                             Discount     -1.0   \n",
       "\n",
       "             InvoiceDate UnitPrice CustomerID         Country  \\\n",
       "540421  09-12-2011 09:15      2.08    16446.0  United Kingdom   \n",
       "61619   18-01-2011 10:01      1.04    12346.0  United Kingdom   \n",
       "4287    02-12-2010 14:23      0.03    15838.0  United Kingdom   \n",
       "52711   11-01-2011 12:55       2.1    15749.0  United Kingdom   \n",
       "52710   11-01-2011 12:55      1.85    15749.0  United Kingdom   \n",
       "...                  ...       ...        ...             ...   \n",
       "349851  21-09-2011 09:52      7.95    14284.0  United Kingdom   \n",
       "349871  21-09-2011 10:00      9.95    12384.0     Switzerland   \n",
       "176843  05-05-2011 18:11      0.85    15622.0  United Kingdom   \n",
       "176839  05-05-2011 18:11      1.25    15622.0  United Kingdom   \n",
       "141     01-12-2010 09:41      27.5    14527.0  United Kingdom   \n",
       "\n",
       "                    Canceled_status  \n",
       "540421               ORDER CANCELED  \n",
       "61619                ORDER CANCELED  \n",
       "4287             NO PURCHASE RECORD  \n",
       "52711   SAME ITEM ALREADY PURCHASED  \n",
       "52710   SAME ITEM ALREADY PURCHASED  \n",
       "...                             ...  \n",
       "349851           NO PURCHASE RECORD  \n",
       "349871           NO PURCHASE RECORD  \n",
       "176843           NO PURCHASE RECORD  \n",
       "176839           NO PURCHASE RECORD  \n",
       "141              NO PURCHASE RECORD  \n",
       "\n",
       "[8905 rows x 9 columns]"
      ]
     },
     "execution_count": 794,
     "metadata": {},
     "output_type": "execute_result"
    }
   ],
   "source": [
    "\n",
    "cancelled_items=pd.DataFrame()\n",
    "cancelled_items_=customer_data[customer_data[\"Quantity\"]< 0].sort_values(\"Quantity\")\n",
    "def find_similar_data(cancel_item):\n",
    "    cancelled_item_index=cancel_item\n",
    "    cancel_item=customer_data.loc[cancel_item]\n",
    "    item_name=cancel_item.Description\n",
    "    item_stockcode=cancel_item.StockCode\n",
    "    item_quantity=-1 * cancel_item.Quantity\n",
    "    item_customer_id=cancel_item.CustomerID\n",
    "    condition_1=customer_data['StockCode']==item_stockcode\n",
    "    condition_2=customer_data['Quantity']==item_quantity\n",
    "    condition_3=customer_data['Description']==item_name\n",
    "    condition_4=customer_data['CustomerID']==item_customer_id\n",
    "    df=customer_data[condition_1 & condition_2 & condition_3 & condition_4]\n",
    "    if df.shape[0]==1:\n",
    "        df[\"Canceled_status\"]=f\"ORDER CANCELED\"\n",
    "    elif df.shape[0]==0:\n",
    "        df.loc[cancelled_item_index,:]=cancel_item\n",
    "        df[\"Canceled_status\"]=f\"NO PURCHASE RECORD\"\n",
    "    elif df.shape[0]>1:\n",
    "        df[\"Canceled_status\"]=f\"SAME ITEM ALREADY PURCHASED\"\n",
    "    try:\n",
    "        customer_data.drop([df.index[0],cancelled_item_index],axis=0,inplace=True)\n",
    "        cancelled_items[df.index[0]]=df.iloc[0,:]\n",
    "    except:\n",
    "        None\n",
    "\n",
    "cancelled_items_.reset_index().rename(columns={'index':\"cancelled_index\"})[\"cancelled_index\"].apply(lambda x:find_similar_data(x))\n",
    "cancelled_items.T"
   ]
  },
  {
   "cell_type": "code",
   "execution_count": 903,
   "id": "cf2310d3",
   "metadata": {
    "ExecuteTime": {
     "end_time": "2022-04-05T17:36:47.749273Z",
     "start_time": "2022-04-05T17:36:47.384957Z"
    }
   },
   "outputs": [
    {
     "name": "stdout",
     "output_type": "stream",
     "text": [
      "18371 4388 1455\n"
     ]
    },
    {
     "data": {
      "text/plain": [
       "NO PURCHASE RECORD             5544\n",
       "ORDER CANCELED                 2034\n",
       "SAME ITEM ALREADY PURCHASED    1075\n",
       "MANUAL                          175\n",
       "DISCOUNT                         77\n",
       "Name: Canceled_status, dtype: int64"
      ]
     },
     "metadata": {},
     "output_type": "display_data"
    },
    {
     "data": {
      "image/png": "[encoded data removed]",
      "text/plain": [
       "<Figure size 1000x1000 with 1 Axes>"
      ]
     },
     "metadata": {},
     "output_type": "display_data"
    }
   ],
   "source": [
    "cancelled_items_1=cancelled_items.T\n",
    "a=set(customer_data[\"InvoiceNo\"].unique())\n",
    "b=set(cancelled_items_1['InvoiceNo'].unique())\n",
    "c=a.intersection(b)\n",
    "print(len(a),len(b),len(c))\n",
    "cancelled_items_1.loc[cancelled_items_1[\"StockCode\"]==\"D\",\"Canceled_status\"]=\"DISCOUNT\"\n",
    "cancelled_items_1.loc[cancelled_items_1[\"StockCode\"]==\"M\",\"Canceled_status\"]=\"MANUAL\"\n",
    "canceled_invoice_reason=cancelled_items_1[\"Canceled_status\"].value_counts()\n",
    "plt.figure(figsize=(5,5),dpi=200)\n",
    "plt.pie(canceled_invoice_reason,\n",
    "        explode = [0.05,0.05,0.05,0.05,0.1],\n",
    "        autopct='%.1f%%')\n",
    "plt.legend(labels = canceled_invoice_reason.index,ncol=2)\n",
    "plt.show()\n",
    "display(canceled_invoice_reason)"
   ]
  },
  {
   "cell_type": "markdown",
   "id": "645f8c79",
   "metadata": {
    "ExecuteTime": {
     "end_time": "2022-04-05T13:21:47.944308Z",
     "start_time": "2022-04-05T13:21:47.896315Z"
    }
   },
   "source": [
    "## Total there are 8905 items having invoice status as canceled\n",
    "- Out of 8905 of canceled invoices\n",
    " 1. 22 % i.e 2060 items is been canceled\n",
    " 2. 12 % i.e 1103 items is been canceled and **ordered again**\n",
    " 3. 62 % i.e 5742 items is been canceled but they have **no similar purchase record**\n",
    " 4. 2 % i.e 175 are manual\n",
    " 4. 0.9 % i.e 77 are discounts given "
   ]
  },
  {
   "cell_type": "code",
   "execution_count": 870,
   "id": "9fce8735",
   "metadata": {
    "ExecuteTime": {
     "end_time": "2022-04-05T17:01:21.623953Z",
     "start_time": "2022-04-05T17:01:21.466804Z"
    }
   },
   "outputs": [
    {
     "name": "stdout",
     "output_type": "stream",
     "text": [
      " There are 4326 Customer\n",
      " There are 3862 Items\n",
      " There are 18371 Transactions\n"
     ]
    }
   ],
   "source": [
    "print(f' There are {len(customer_data[\"CustomerID\"].unique())} Customer')\n",
    "print(f' There are {len(customer_data[\"Description\"].unique())} Items')\n",
    "print(f' There are {len(customer_data[\"InvoiceNo\"].unique())} Transactions')\n"
   ]
  },
  {
   "cell_type": "code",
   "execution_count": 942,
   "id": "731154fb",
   "metadata": {
    "ExecuteTime": {
     "end_time": "2022-04-05T18:13:49.131418Z",
     "start_time": "2022-04-05T18:13:49.049172Z"
    }
   },
   "outputs": [
    {
     "data": {
      "text/html": [
       "<div>\n",
       "<style scoped>\n",
       "    .dataframe tbody tr th:only-of-type {\n",
       "        vertical-align: middle;\n",
       "    }\n",
       "\n",
       "    .dataframe tbody tr th {\n",
       "        vertical-align: top;\n",
       "    }\n",
       "\n",
       "    .dataframe thead th {\n",
       "        text-align: right;\n",
       "    }\n",
       "</style>\n",
       "<table border=\"1\" class=\"dataframe\">\n",
       "  <thead>\n",
       "    <tr style=\"text-align: right;\">\n",
       "      <th></th>\n",
       "      <th>Description</th>\n",
       "    </tr>\n",
       "  </thead>\n",
       "  <tbody>\n",
       "    <tr>\n",
       "      <th>0</th>\n",
       "      <td>2 DAISIES HAIR COMB</td>\n",
       "    </tr>\n",
       "    <tr>\n",
       "      <th>1</th>\n",
       "      <td>ANTIQUE LILY FAIRY LIGHTS</td>\n",
       "    </tr>\n",
       "    <tr>\n",
       "      <th>2</th>\n",
       "      <td>ASSORTED TUTTI FRUTTI ROUND BOX</td>\n",
       "    </tr>\n",
       "    <tr>\n",
       "      <th>3</th>\n",
       "      <td>BLACK 3 BEAD DROP EARRINGS</td>\n",
       "    </tr>\n",
       "    <tr>\n",
       "      <th>4</th>\n",
       "      <td>BLUE FLYING SINGING CANARY</td>\n",
       "    </tr>\n",
       "    <tr>\n",
       "      <th>5</th>\n",
       "      <td>BLUE PADDED SOFT MOBILE</td>\n",
       "    </tr>\n",
       "    <tr>\n",
       "      <th>6</th>\n",
       "      <td>CLASSIC DIAMANTE EARRINGS JET</td>\n",
       "    </tr>\n",
       "    <tr>\n",
       "      <th>7</th>\n",
       "      <td>CREAM SWEETHEART MAGAZINE RACK</td>\n",
       "    </tr>\n",
       "    <tr>\n",
       "      <th>8</th>\n",
       "      <td>CREAM SWEETHEART SHELF + HOOKS</td>\n",
       "    </tr>\n",
       "    <tr>\n",
       "      <th>9</th>\n",
       "      <td>CREAM SWEETHEART TRAYS</td>\n",
       "    </tr>\n",
       "    <tr>\n",
       "      <th>10</th>\n",
       "      <td>DAISY HAIR COMB</td>\n",
       "    </tr>\n",
       "    <tr>\n",
       "      <th>11</th>\n",
       "      <td>DIAMANTE HAIR GRIP PACK/2 CRYSTAL</td>\n",
       "    </tr>\n",
       "    <tr>\n",
       "      <th>12</th>\n",
       "      <td>DIAMANTE HAIR GRIP PACK/2 PERIDOT</td>\n",
       "    </tr>\n",
       "    <tr>\n",
       "      <th>13</th>\n",
       "      <td>DROP DIAMANTE EARRINGS GREEN</td>\n",
       "    </tr>\n",
       "    <tr>\n",
       "      <th>14</th>\n",
       "      <td>FLAMINGO LIGHTS</td>\n",
       "    </tr>\n",
       "    <tr>\n",
       "      <th>15</th>\n",
       "      <td>GLASS CAKE COVER AND PLATE</td>\n",
       "    </tr>\n",
       "    <tr>\n",
       "      <th>16</th>\n",
       "      <td>LARGE ROUND CUTGLASS CANDLESTICK</td>\n",
       "    </tr>\n",
       "    <tr>\n",
       "      <th>17</th>\n",
       "      <td>PAPER CRAFT , LITTLE BIRDIE</td>\n",
       "    </tr>\n",
       "    <tr>\n",
       "      <th>18</th>\n",
       "      <td>PINK CHERRY LIGHTS</td>\n",
       "    </tr>\n",
       "    <tr>\n",
       "      <th>19</th>\n",
       "      <td>PINK DAISY BAG CHARM</td>\n",
       "    </tr>\n",
       "    <tr>\n",
       "      <th>20</th>\n",
       "      <td>PINK LARGE JEWELED PHOTOFRAME</td>\n",
       "    </tr>\n",
       "    <tr>\n",
       "      <th>21</th>\n",
       "      <td>PINK POODLE HANGING DECORATION</td>\n",
       "    </tr>\n",
       "    <tr>\n",
       "      <th>22</th>\n",
       "      <td>PINK SMALL GLASS CAKE STAND</td>\n",
       "    </tr>\n",
       "    <tr>\n",
       "      <th>23</th>\n",
       "      <td>PORCELAIN HANGING BELL SMALL</td>\n",
       "    </tr>\n",
       "    <tr>\n",
       "      <th>24</th>\n",
       "      <td>PURPLE ENAMEL FLOWER HAIR TIE</td>\n",
       "    </tr>\n",
       "    <tr>\n",
       "      <th>25</th>\n",
       "      <td>SET 10 CARDS HANGING BAUBLES 17080</td>\n",
       "    </tr>\n",
       "    <tr>\n",
       "      <th>26</th>\n",
       "      <td>SMALL TAHITI BEACH BAG</td>\n",
       "    </tr>\n",
       "    <tr>\n",
       "      <th>27</th>\n",
       "      <td>SWEETHEART KEY CABINET</td>\n",
       "    </tr>\n",
       "    <tr>\n",
       "      <th>28</th>\n",
       "      <td>TEA TIME CAKE STAND IN GIFT BOX</td>\n",
       "    </tr>\n",
       "    <tr>\n",
       "      <th>29</th>\n",
       "      <td>VINTAGE GOLD TINSEL REEL</td>\n",
       "    </tr>\n",
       "    <tr>\n",
       "      <th>30</th>\n",
       "      <td>WHITE CHERRY LIGHTS</td>\n",
       "    </tr>\n",
       "    <tr>\n",
       "      <th>31</th>\n",
       "      <td>WOOLLY HAT SOCK GLOVE ADVENT STRING</td>\n",
       "    </tr>\n",
       "  </tbody>\n",
       "</table>\n",
       "</div>"
      ],
      "text/plain": [
       "                            Description\n",
       "0                   2 DAISIES HAIR COMB\n",
       "1             ANTIQUE LILY FAIRY LIGHTS\n",
       "2       ASSORTED TUTTI FRUTTI ROUND BOX\n",
       "3            BLACK 3 BEAD DROP EARRINGS\n",
       "4            BLUE FLYING SINGING CANARY\n",
       "5               BLUE PADDED SOFT MOBILE\n",
       "6         CLASSIC DIAMANTE EARRINGS JET\n",
       "7        CREAM SWEETHEART MAGAZINE RACK\n",
       "8        CREAM SWEETHEART SHELF + HOOKS\n",
       "9                CREAM SWEETHEART TRAYS\n",
       "10                      DAISY HAIR COMB\n",
       "11    DIAMANTE HAIR GRIP PACK/2 CRYSTAL\n",
       "12    DIAMANTE HAIR GRIP PACK/2 PERIDOT\n",
       "13         DROP DIAMANTE EARRINGS GREEN\n",
       "14                      FLAMINGO LIGHTS\n",
       "15           GLASS CAKE COVER AND PLATE\n",
       "16     LARGE ROUND CUTGLASS CANDLESTICK\n",
       "17          PAPER CRAFT , LITTLE BIRDIE\n",
       "18                   PINK CHERRY LIGHTS\n",
       "19                 PINK DAISY BAG CHARM\n",
       "20        PINK LARGE JEWELED PHOTOFRAME\n",
       "21      PINK POODLE HANGING DECORATION \n",
       "22          PINK SMALL GLASS CAKE STAND\n",
       "23         PORCELAIN HANGING BELL SMALL\n",
       "24        PURPLE ENAMEL FLOWER HAIR TIE\n",
       "25   SET 10 CARDS HANGING BAUBLES 17080\n",
       "26               SMALL TAHITI BEACH BAG\n",
       "27               SWEETHEART KEY CABINET\n",
       "28      TEA TIME CAKE STAND IN GIFT BOX\n",
       "29             VINTAGE GOLD TINSEL REEL\n",
       "30                  WHITE CHERRY LIGHTS\n",
       "31  WOOLLY HAT SOCK GLOVE ADVENT STRING"
      ]
     },
     "execution_count": 942,
     "metadata": {},
     "output_type": "execute_result"
    }
   ],
   "source": [
    "stock_code_not_sold=set(cancelled_items_1[\"StockCode\"].unique())-set(customer_data[\"StockCode\"].unique())\n",
    "# stock_code_not_sold.remove(\"Discount\")\n",
    "items_never_purchased=cancelled_items_1[cancelled_items_1[\"StockCode\"].isin(stock_code_not_sold)].groupby(\"Description\")[\"Quantity\"].sum()\n",
    "items_never_purchased=items_never_purchased.drop([\"CRUK Commission\",\"Discount\"]).reset_index().rename(columns={\"StockCode\":\"Stock Cancelled\"})\n",
    "items_never_purchased[[\"Description\"]]"
   ]
  },
  {
   "cell_type": "markdown",
   "id": "186eb85e",
   "metadata": {},
   "source": [
    "## Above are list of the items in the given data that are never made a revenue (zero sales)  \n",
    "- Because came back due to cancellation "
   ]
  },
  {
   "cell_type": "code",
   "execution_count": 906,
   "id": "3a9bee8f",
   "metadata": {
    "ExecuteTime": {
     "end_time": "2022-04-05T17:45:26.436244Z",
     "start_time": "2022-04-05T17:45:26.418277Z"
    }
   },
   "outputs": [
    {
     "name": "stdout",
     "output_type": "stream",
     "text": [
      "17.21 % of transactions is cancelled\n",
      "1.05 % of customers purchased nothing and have no transaction due to order cancellation\n",
      "0.87 % of items in the data given is never purchased due to order cancellation \n"
     ]
    }
   ],
   "source": [
    "\n",
    "print(f\"{np.round(100*(22190-18371)/22190,2)} % of transactions is cancelled\")\n",
    "print(f\"{np.round(100*(4372 -4326 )/4372 ,2)} % of customers purchased nothing and have no transaction due to order cancellation\")\n",
    "print(f\"{np.round(100*(3896 -3862)/3896 ,2)} % of items in the data given is never purchased due to order cancellation \")\n"
   ]
  },
  {
   "cell_type": "markdown",
   "id": "ef8173c3",
   "metadata": {},
   "source": [
    "1. 17% of transaction has been deleted\n",
    "2. 1.05% of customers have no transaction due to canceled orders\n",
    "3. 0.87% of items in the given data are never purchased"
   ]
  },
  {
   "cell_type": "code",
   "execution_count": null,
   "id": "831c5b37",
   "metadata": {
    "ExecuteTime": {
     "end_time": "2022-04-05T08:19:14.218363Z",
     "start_time": "2022-04-05T08:19:14.198379Z"
    }
   },
   "outputs": [],
   "source": []
  },
  {
   "cell_type": "code",
   "execution_count": null,
   "id": "10fc73d0",
   "metadata": {
    "ExecuteTime": {
     "end_time": "2022-04-05T15:40:23.992901Z",
     "start_time": "2022-04-05T15:40:23.854085Z"
    }
   },
   "outputs": [],
   "source": []
  },
  {
   "cell_type": "markdown",
   "id": "0ead6211",
   "metadata": {},
   "source": [
    "## After removing the canceled items from the data that came back for cancellation \n"
   ]
  },
  {
   "cell_type": "code",
   "execution_count": 486,
   "id": "ceb19c29",
   "metadata": {
    "ExecuteTime": {
     "end_time": "2022-04-05T05:33:42.999836Z",
     "start_time": "2022-04-05T05:33:42.447907Z"
    }
   },
   "outputs": [
    {
     "data": {
      "text/plain": [
       "Description\n",
       "REGENCY CAKESTAND 3 TIER               872\n",
       "WHITE HANGING HEART T-LIGHT HOLDER     854\n",
       "PARTY BUNTING                          708\n",
       "ASSORTED COLOUR BIRD ORNAMENT          677\n",
       "SET OF 3 CAKE TINS PANTRY DESIGN       635\n",
       "                                      ... \n",
       "KNITTED RABBIT DOLL                      1\n",
       "BLACK VINT ART DEC CRYSTAL BRACELET      1\n",
       "SET 36 COLOURING PENCILS DOILEY          1\n",
       "SET/5 RED SPOTTY LID GLASS BOWLS         1\n",
       "CAKE STAND LACE WHITE                    1\n",
       "Name: CustomerID, Length: 3862, dtype: int64"
      ]
     },
     "execution_count": 486,
     "metadata": {},
     "output_type": "execute_result"
    }
   ],
   "source": [
    "# uncancelled_items=customer_data[~ customer_data[\"InvoiceNo\"].str.contains(\"C|c\")]\n",
    "top_sold_out_items=customer_data.groupby(\"Description\").sum()[\"Quantity\"].reset_index()\\\n",
    ".groupby(\"Description\").sum().sort_values(by=\"Quantity\",ascending=False).reset_index()\n",
    "# top_sold_out_items\n",
    "customer_data.groupby([\"Description\",\"CustomerID\"]).count().reset_index().groupby(\"Description\")[\"CustomerID\"]\\\n",
    ".count().sort_values(ascending=False)\n",
    "# top_sold_out_items.head(30)"
   ]
  },
  {
   "cell_type": "code",
   "execution_count": 450,
   "id": "1b191d99",
   "metadata": {
    "ExecuteTime": {
     "end_time": "2022-04-04T16:32:39.316782Z",
     "start_time": "2022-04-04T16:32:38.379320Z"
    }
   },
   "outputs": [
    {
     "data": {
      "text/plain": [
       "<AxesSubplot:xlabel='Quantity', ylabel='Description'>"
      ]
     },
     "execution_count": 450,
     "metadata": {},
     "output_type": "execute_result"
    },
    {
     "data": {
      "image/png": "[encoded data removed]",
      "text/plain": [
       "<Figure size 1000x1000 with 1 Axes>"
      ]
     },
     "metadata": {
      "needs_background": "light"
     },
     "output_type": "display_data"
    }
   ],
   "source": [
    "plt.figure(figsize=(5,5),dpi=200)\n",
    "plt.xticks(rotation=90)\n",
    "sns.barplot(data=top_sold_out_items.head(10),x=\"Quantity\",y=\"Description\")"
   ]
  },
  {
   "cell_type": "markdown",
   "id": "5582dc86",
   "metadata": {},
   "source": [
    "- Top 10 items purchased quantity wise"
   ]
  },
  {
   "cell_type": "code",
   "execution_count": 492,
   "id": "6b884f36",
   "metadata": {
    "ExecuteTime": {
     "end_time": "2022-04-05T05:46:44.909297Z",
     "start_time": "2022-04-05T05:46:44.673853Z"
    }
   },
   "outputs": [
    {
     "data": {
      "text/plain": [
       "<AxesSubplot:xlabel='UnitPrice'>"
      ]
     },
     "execution_count": 492,
     "metadata": {},
     "output_type": "execute_result"
    },
    {
     "data": {
      "image/png": "[encoded data removed]",
      "text/plain": [
       "<Figure size 432x288 with 1 Axes>"
      ]
     },
     "metadata": {
      "needs_background": "light"
     },
     "output_type": "display_data"
    }
   ],
   "source": [
    "sns.boxplot(customer_data.groupby(\"Description\")[\"UnitPrice\"].mean())"
   ]
  },
  {
   "cell_type": "markdown",
   "id": "e3518dad",
   "metadata": {},
   "source": [
    "- from this box plot we can see that most of the items prices are below 200 pound sterling"
   ]
  },
  {
   "cell_type": "code",
   "execution_count": 254,
   "id": "981283ee",
   "metadata": {
    "ExecuteTime": {
     "end_time": "2022-04-04T12:21:16.916461Z",
     "start_time": "2022-04-04T12:21:16.899470Z"
    }
   },
   "outputs": [],
   "source": [
    "customer_data[\"Total_Cost\"]=customer_data[\"Quantity\"]*customer_data[\"UnitPrice\"]\n"
   ]
  },
  {
   "cell_type": "code",
   "execution_count": 463,
   "id": "9bebd9c4",
   "metadata": {
    "ExecuteTime": {
     "end_time": "2022-04-04T16:37:50.623483Z",
     "start_time": "2022-04-04T16:37:50.069152Z"
    },
    "scrolled": false
   },
   "outputs": [
    {
     "data": {
      "text/html": [
       "<div>\n",
       "<style scoped>\n",
       "    .dataframe tbody tr th:only-of-type {\n",
       "        vertical-align: middle;\n",
       "    }\n",
       "\n",
       "    .dataframe tbody tr th {\n",
       "        vertical-align: top;\n",
       "    }\n",
       "\n",
       "    .dataframe thead th {\n",
       "        text-align: right;\n",
       "    }\n",
       "</style>\n",
       "<table border=\"1\" class=\"dataframe\">\n",
       "  <thead>\n",
       "    <tr style=\"text-align: right;\">\n",
       "      <th></th>\n",
       "      <th>Description</th>\n",
       "      <th>Total_Cost</th>\n",
       "    </tr>\n",
       "  </thead>\n",
       "  <tbody>\n",
       "    <tr>\n",
       "      <th>0</th>\n",
       "      <td>REGENCY CAKESTAND 3 TIER</td>\n",
       "      <td>138005.80</td>\n",
       "    </tr>\n",
       "    <tr>\n",
       "      <th>1</th>\n",
       "      <td>WHITE HANGING HEART T-LIGHT HOLDER</td>\n",
       "      <td>93974.35</td>\n",
       "    </tr>\n",
       "    <tr>\n",
       "      <th>2</th>\n",
       "      <td>JUMBO BAG RED RETROSPOT</td>\n",
       "      <td>83702.64</td>\n",
       "    </tr>\n",
       "    <tr>\n",
       "      <th>3</th>\n",
       "      <td>POSTAGE</td>\n",
       "      <td>68429.26</td>\n",
       "    </tr>\n",
       "    <tr>\n",
       "      <th>4</th>\n",
       "      <td>PARTY BUNTING</td>\n",
       "      <td>68014.53</td>\n",
       "    </tr>\n",
       "    <tr>\n",
       "      <th>5</th>\n",
       "      <td>ASSORTED COLOUR BIRD ORNAMENT</td>\n",
       "      <td>56531.33</td>\n",
       "    </tr>\n",
       "    <tr>\n",
       "      <th>6</th>\n",
       "      <td>RABBIT NIGHT LIGHT</td>\n",
       "      <td>51283.80</td>\n",
       "    </tr>\n",
       "    <tr>\n",
       "      <th>7</th>\n",
       "      <td>CHILLI LIGHTS</td>\n",
       "      <td>45951.76</td>\n",
       "    </tr>\n",
       "    <tr>\n",
       "      <th>8</th>\n",
       "      <td>PAPER CHAIN KIT 50'S CHRISTMAS</td>\n",
       "      <td>41722.18</td>\n",
       "    </tr>\n",
       "    <tr>\n",
       "      <th>9</th>\n",
       "      <td>Manual</td>\n",
       "      <td>40154.36</td>\n",
       "    </tr>\n",
       "    <tr>\n",
       "      <th>10</th>\n",
       "      <td>PICNIC BASKET WICKER 60 PIECES</td>\n",
       "      <td>39619.50</td>\n",
       "    </tr>\n",
       "    <tr>\n",
       "      <th>11</th>\n",
       "      <td>BLACK RECORD COVER FRAME</td>\n",
       "      <td>39019.55</td>\n",
       "    </tr>\n",
       "    <tr>\n",
       "      <th>12</th>\n",
       "      <td>JUMBO BAG PINK POLKADOT</td>\n",
       "      <td>36530.05</td>\n",
       "    </tr>\n",
       "    <tr>\n",
       "      <th>13</th>\n",
       "      <td>SPOTTY BUNTING</td>\n",
       "      <td>35519.45</td>\n",
       "    </tr>\n",
       "    <tr>\n",
       "      <th>14</th>\n",
       "      <td>WOOD BLACK BOARD ANT WHITE FINISH</td>\n",
       "      <td>34374.66</td>\n",
       "    </tr>\n",
       "  </tbody>\n",
       "</table>\n",
       "</div>"
      ],
      "text/plain": [
       "                           Description  Total_Cost\n",
       "0             REGENCY CAKESTAND 3 TIER   138005.80\n",
       "1   WHITE HANGING HEART T-LIGHT HOLDER    93974.35\n",
       "2              JUMBO BAG RED RETROSPOT    83702.64\n",
       "3                              POSTAGE    68429.26\n",
       "4                        PARTY BUNTING    68014.53\n",
       "5        ASSORTED COLOUR BIRD ORNAMENT    56531.33\n",
       "6                   RABBIT NIGHT LIGHT    51283.80\n",
       "7                        CHILLI LIGHTS    45951.76\n",
       "8      PAPER CHAIN KIT 50'S CHRISTMAS     41722.18\n",
       "9                               Manual    40154.36\n",
       "10      PICNIC BASKET WICKER 60 PIECES    39619.50\n",
       "11            BLACK RECORD COVER FRAME    39019.55\n",
       "12             JUMBO BAG PINK POLKADOT    36530.05\n",
       "13                      SPOTTY BUNTING    35519.45\n",
       "14   WOOD BLACK BOARD ANT WHITE FINISH    34374.66"
      ]
     },
     "metadata": {},
     "output_type": "display_data"
    },
    {
     "data": {
      "text/plain": [
       "<AxesSubplot:xlabel='Total_Cost', ylabel='Description'>"
      ]
     },
     "execution_count": 463,
     "metadata": {},
     "output_type": "execute_result"
    },
    {
     "data": {
      "image/png": "[encoded data removed]",
      "text/plain": [
       "<Figure size 600x600 with 1 Axes>"
      ]
     },
     "metadata": {
      "needs_background": "light"
     },
     "output_type": "display_data"
    }
   ],
   "source": [
    "top_items_made_profit=customer_data.groupby(\"Description\")[\"Total_Cost\"].sum().sort_values(ascending=False).reset_index()\n",
    "display(top_items_made_profit.head(15))\n",
    "plt.figure(figsize=(3,3),dpi=200)\n",
    "sns.barplot(data=top_15_items_made_profit.head(15),y=\"Description\",x=\"Total_Cost\")"
   ]
  },
  {
   "cell_type": "code",
   "execution_count": 499,
   "id": "8f258a5b",
   "metadata": {
    "ExecuteTime": {
     "end_time": "2022-04-05T06:06:41.897709Z",
     "start_time": "2022-04-05T06:06:41.641136Z"
    }
   },
   "outputs": [
    {
     "data": {
      "text/plain": [
       "<AxesSubplot:xlabel='Quantity'>"
      ]
     },
     "execution_count": 499,
     "metadata": {},
     "output_type": "execute_result"
    },
    {
     "data": {
      "image/png": "[encoded data removed]",
      "text/plain": [
       "<Figure size 432x288 with 1 Axes>"
      ]
     },
     "metadata": {
      "needs_background": "light"
     },
     "output_type": "display_data"
    }
   ],
   "source": [
    "sns.boxplot(customer_data.groupby(\"InvoiceNo\").sum()['Quantity'])"
   ]
  },
  {
   "cell_type": "code",
   "execution_count": 150,
   "id": "09b680e8",
   "metadata": {
    "ExecuteTime": {
     "end_time": "2022-04-04T10:23:37.182842Z",
     "start_time": "2022-04-04T10:23:36.847270Z"
    }
   },
   "outputs": [
    {
     "data": {
      "text/html": [
       "<div>\n",
       "<style scoped>\n",
       "    .dataframe tbody tr th:only-of-type {\n",
       "        vertical-align: middle;\n",
       "    }\n",
       "\n",
       "    .dataframe tbody tr th {\n",
       "        vertical-align: top;\n",
       "    }\n",
       "\n",
       "    .dataframe thead th {\n",
       "        text-align: right;\n",
       "    }\n",
       "</style>\n",
       "<table border=\"1\" class=\"dataframe\">\n",
       "  <thead>\n",
       "    <tr style=\"text-align: right;\">\n",
       "      <th></th>\n",
       "      <th>InvoiceNo</th>\n",
       "      <th>StockCode</th>\n",
       "      <th>Description</th>\n",
       "      <th>Quantity</th>\n",
       "      <th>InvoiceDate</th>\n",
       "      <th>UnitPrice</th>\n",
       "      <th>CustomerID</th>\n",
       "      <th>Country</th>\n",
       "      <th>Total_Cost</th>\n",
       "    </tr>\n",
       "  </thead>\n",
       "  <tbody>\n",
       "    <tr>\n",
       "      <th>4287</th>\n",
       "      <td>C536757</td>\n",
       "      <td>84347</td>\n",
       "      <td>ROTATING SILVER ANGELS T-LIGHT HLDR</td>\n",
       "      <td>-9360</td>\n",
       "      <td>02-12-2010 14:23</td>\n",
       "      <td>0.03</td>\n",
       "      <td>15838.0</td>\n",
       "      <td>United Kingdom</td>\n",
       "      <td>-280.80</td>\n",
       "    </tr>\n",
       "    <tr>\n",
       "      <th>44303</th>\n",
       "      <td>C540164</td>\n",
       "      <td>84347</td>\n",
       "      <td>ROTATING SILVER ANGELS T-LIGHT HLDR</td>\n",
       "      <td>-6</td>\n",
       "      <td>05-01-2011 12:02</td>\n",
       "      <td>2.55</td>\n",
       "      <td>14911.0</td>\n",
       "      <td>EIRE</td>\n",
       "      <td>-15.30</td>\n",
       "    </tr>\n",
       "    <tr>\n",
       "      <th>414618</th>\n",
       "      <td>C572473</td>\n",
       "      <td>84347</td>\n",
       "      <td>ROTATING SILVER ANGELS T-LIGHT HLDR</td>\n",
       "      <td>-1</td>\n",
       "      <td>24-10-2011 13:34</td>\n",
       "      <td>2.55</td>\n",
       "      <td>18188.0</td>\n",
       "      <td>United Kingdom</td>\n",
       "      <td>-2.55</td>\n",
       "    </tr>\n",
       "    <tr>\n",
       "      <th>412073</th>\n",
       "      <td>572278</td>\n",
       "      <td>84347</td>\n",
       "      <td>ROTATING SILVER ANGELS T-LIGHT HLDR</td>\n",
       "      <td>1</td>\n",
       "      <td>23-10-2011 10:46</td>\n",
       "      <td>2.55</td>\n",
       "      <td>16326.0</td>\n",
       "      <td>United Kingdom</td>\n",
       "      <td>2.55</td>\n",
       "    </tr>\n",
       "    <tr>\n",
       "      <th>361546</th>\n",
       "      <td>568346</td>\n",
       "      <td>84347</td>\n",
       "      <td>ROTATING SILVER ANGELS T-LIGHT HLDR</td>\n",
       "      <td>1</td>\n",
       "      <td>26-09-2011 15:28</td>\n",
       "      <td>4.96</td>\n",
       "      <td>14096.0</td>\n",
       "      <td>United Kingdom</td>\n",
       "      <td>4.96</td>\n",
       "    </tr>\n",
       "    <tr>\n",
       "      <th>...</th>\n",
       "      <td>...</td>\n",
       "      <td>...</td>\n",
       "      <td>...</td>\n",
       "      <td>...</td>\n",
       "      <td>...</td>\n",
       "      <td>...</td>\n",
       "      <td>...</td>\n",
       "      <td>...</td>\n",
       "      <td>...</td>\n",
       "    </tr>\n",
       "    <tr>\n",
       "      <th>4479</th>\n",
       "      <td>536784</td>\n",
       "      <td>84347</td>\n",
       "      <td>ROTATING SILVER ANGELS T-LIGHT HLDR</td>\n",
       "      <td>240</td>\n",
       "      <td>02-12-2010 15:20</td>\n",
       "      <td>1.88</td>\n",
       "      <td>15061.0</td>\n",
       "      <td>United Kingdom</td>\n",
       "      <td>451.20</td>\n",
       "    </tr>\n",
       "    <tr>\n",
       "      <th>23254</th>\n",
       "      <td>538191</td>\n",
       "      <td>84347</td>\n",
       "      <td>ROTATING SILVER ANGELS T-LIGHT HLDR</td>\n",
       "      <td>240</td>\n",
       "      <td>10-12-2010 10:49</td>\n",
       "      <td>1.88</td>\n",
       "      <td>15061.0</td>\n",
       "      <td>United Kingdom</td>\n",
       "      <td>451.20</td>\n",
       "    </tr>\n",
       "    <tr>\n",
       "      <th>31595</th>\n",
       "      <td>538998</td>\n",
       "      <td>84347</td>\n",
       "      <td>ROTATING SILVER ANGELS T-LIGHT HLDR</td>\n",
       "      <td>480</td>\n",
       "      <td>15-12-2010 12:08</td>\n",
       "      <td>1.88</td>\n",
       "      <td>15061.0</td>\n",
       "      <td>United Kingdom</td>\n",
       "      <td>902.40</td>\n",
       "    </tr>\n",
       "    <tr>\n",
       "      <th>413848</th>\n",
       "      <td>572325</td>\n",
       "      <td>84347</td>\n",
       "      <td>ROTATING SILVER ANGELS T-LIGHT HLDR</td>\n",
       "      <td>600</td>\n",
       "      <td>24-10-2011 09:54</td>\n",
       "      <td>1.74</td>\n",
       "      <td>14607.0</td>\n",
       "      <td>United Kingdom</td>\n",
       "      <td>1044.00</td>\n",
       "    </tr>\n",
       "    <tr>\n",
       "      <th>488440</th>\n",
       "      <td>577822</td>\n",
       "      <td>84347</td>\n",
       "      <td>ROTATING SILVER ANGELS T-LIGHT HLDR</td>\n",
       "      <td>600</td>\n",
       "      <td>22-11-2011 09:34</td>\n",
       "      <td>1.74</td>\n",
       "      <td>14607.0</td>\n",
       "      <td>United Kingdom</td>\n",
       "      <td>1044.00</td>\n",
       "    </tr>\n",
       "  </tbody>\n",
       "</table>\n",
       "<p>330 rows × 9 columns</p>\n",
       "</div>"
      ],
      "text/plain": [
       "       InvoiceNo StockCode                          Description  Quantity  \\\n",
       "4287     C536757     84347  ROTATING SILVER ANGELS T-LIGHT HLDR     -9360   \n",
       "44303    C540164     84347  ROTATING SILVER ANGELS T-LIGHT HLDR        -6   \n",
       "414618   C572473     84347  ROTATING SILVER ANGELS T-LIGHT HLDR        -1   \n",
       "412073    572278     84347  ROTATING SILVER ANGELS T-LIGHT HLDR         1   \n",
       "361546    568346     84347  ROTATING SILVER ANGELS T-LIGHT HLDR         1   \n",
       "...          ...       ...                                  ...       ...   \n",
       "4479      536784     84347  ROTATING SILVER ANGELS T-LIGHT HLDR       240   \n",
       "23254     538191     84347  ROTATING SILVER ANGELS T-LIGHT HLDR       240   \n",
       "31595     538998     84347  ROTATING SILVER ANGELS T-LIGHT HLDR       480   \n",
       "413848    572325     84347  ROTATING SILVER ANGELS T-LIGHT HLDR       600   \n",
       "488440    577822     84347  ROTATING SILVER ANGELS T-LIGHT HLDR       600   \n",
       "\n",
       "             InvoiceDate  UnitPrice  CustomerID         Country  Total_Cost  \n",
       "4287    02-12-2010 14:23       0.03     15838.0  United Kingdom     -280.80  \n",
       "44303   05-01-2011 12:02       2.55     14911.0            EIRE      -15.30  \n",
       "414618  24-10-2011 13:34       2.55     18188.0  United Kingdom       -2.55  \n",
       "412073  23-10-2011 10:46       2.55     16326.0  United Kingdom        2.55  \n",
       "361546  26-09-2011 15:28       4.96     14096.0  United Kingdom        4.96  \n",
       "...                  ...        ...         ...             ...         ...  \n",
       "4479    02-12-2010 15:20       1.88     15061.0  United Kingdom      451.20  \n",
       "23254   10-12-2010 10:49       1.88     15061.0  United Kingdom      451.20  \n",
       "31595   15-12-2010 12:08       1.88     15061.0  United Kingdom      902.40  \n",
       "413848  24-10-2011 09:54       1.74     14607.0  United Kingdom     1044.00  \n",
       "488440  22-11-2011 09:34       1.74     14607.0  United Kingdom     1044.00  \n",
       "\n",
       "[330 rows x 9 columns]"
      ]
     },
     "execution_count": 150,
     "metadata": {},
     "output_type": "execute_result"
    }
   ],
   "source": [
    "uncancelled_items=customer_data[~ customer_data[\"InvoiceNo\"].str.contains(\"C|c\")]\n",
    "customer_data[customer_data[\"Description\"]=='ROTATING SILVER ANGELS T-LIGHT HLDR'].sort_values(\"Quantity\")"
   ]
  },
  {
   "cell_type": "code",
   "execution_count": 515,
   "id": "e64a7352",
   "metadata": {
    "ExecuteTime": {
     "end_time": "2022-04-05T06:39:12.200778Z",
     "start_time": "2022-04-05T06:39:12.050340Z"
    }
   },
   "outputs": [
    {
     "data": {
      "text/html": [
       "<div>\n",
       "<style scoped>\n",
       "    .dataframe tbody tr th:only-of-type {\n",
       "        vertical-align: middle;\n",
       "    }\n",
       "\n",
       "    .dataframe tbody tr th {\n",
       "        vertical-align: top;\n",
       "    }\n",
       "\n",
       "    .dataframe thead th {\n",
       "        text-align: right;\n",
       "    }\n",
       "</style>\n",
       "<table border=\"1\" class=\"dataframe\">\n",
       "  <thead>\n",
       "    <tr style=\"text-align: right;\">\n",
       "      <th></th>\n",
       "      <th>CustomerID</th>\n",
       "      <th>InvoiceNo</th>\n",
       "      <th>Quantity</th>\n",
       "    </tr>\n",
       "  </thead>\n",
       "  <tbody>\n",
       "    <tr>\n",
       "      <th>0</th>\n",
       "      <td>12347.0</td>\n",
       "      <td>537626</td>\n",
       "      <td>31</td>\n",
       "    </tr>\n",
       "    <tr>\n",
       "      <th>1</th>\n",
       "      <td>12347.0</td>\n",
       "      <td>542237</td>\n",
       "      <td>29</td>\n",
       "    </tr>\n",
       "    <tr>\n",
       "      <th>2</th>\n",
       "      <td>12347.0</td>\n",
       "      <td>549222</td>\n",
       "      <td>24</td>\n",
       "    </tr>\n",
       "    <tr>\n",
       "      <th>3</th>\n",
       "      <td>12347.0</td>\n",
       "      <td>556201</td>\n",
       "      <td>18</td>\n",
       "    </tr>\n",
       "    <tr>\n",
       "      <th>4</th>\n",
       "      <td>12347.0</td>\n",
       "      <td>562032</td>\n",
       "      <td>22</td>\n",
       "    </tr>\n",
       "    <tr>\n",
       "      <th>...</th>\n",
       "      <td>...</td>\n",
       "      <td>...</td>\n",
       "      <td>...</td>\n",
       "    </tr>\n",
       "    <tr>\n",
       "      <th>18378</th>\n",
       "      <td>18283.0</td>\n",
       "      <td>541854</td>\n",
       "      <td>45</td>\n",
       "    </tr>\n",
       "    <tr>\n",
       "      <th>18384</th>\n",
       "      <td>18283.0</td>\n",
       "      <td>560025</td>\n",
       "      <td>56</td>\n",
       "    </tr>\n",
       "    <tr>\n",
       "      <th>18394</th>\n",
       "      <td>18287.0</td>\n",
       "      <td>570715</td>\n",
       "      <td>38</td>\n",
       "    </tr>\n",
       "    <tr>\n",
       "      <th>18393</th>\n",
       "      <td>18287.0</td>\n",
       "      <td>554065</td>\n",
       "      <td>29</td>\n",
       "    </tr>\n",
       "    <tr>\n",
       "      <th>18395</th>\n",
       "      <td>18287.0</td>\n",
       "      <td>573167</td>\n",
       "      <td>3</td>\n",
       "    </tr>\n",
       "  </tbody>\n",
       "</table>\n",
       "<p>18396 rows × 3 columns</p>\n",
       "</div>"
      ],
      "text/plain": [
       "       CustomerID InvoiceNo  Quantity\n",
       "0         12347.0    537626        31\n",
       "1         12347.0    542237        29\n",
       "2         12347.0    549222        24\n",
       "3         12347.0    556201        18\n",
       "4         12347.0    562032        22\n",
       "...           ...       ...       ...\n",
       "18378     18283.0    541854        45\n",
       "18384     18283.0    560025        56\n",
       "18394     18287.0    570715        38\n",
       "18393     18287.0    554065        29\n",
       "18395     18287.0    573167         3\n",
       "\n",
       "[18396 rows x 3 columns]"
      ]
     },
     "execution_count": 515,
     "metadata": {},
     "output_type": "execute_result"
    }
   ],
   "source": [
    "customer_invoice_quantity_=customer_data.groupby([\"CustomerID\",\"InvoiceNo\"],as_index=False)[\"Quantity\"].count().sort_values(by=\"CustomerID\")\n",
    "customer_invoice_quantity_"
   ]
  },
  {
   "cell_type": "markdown",
   "id": "1ca58c61",
   "metadata": {},
   "source": [
    "- From the above list we can differentiate transactions by\n",
    "1. Less product purchases in an invoice (1 - 4 products)\n",
    "2. More product purchases in an invoice (more than 50 products)\n",
    "3. Average number of product purchases"
   ]
  },
  {
   "cell_type": "code",
   "execution_count": 520,
   "id": "61b346bf",
   "metadata": {
    "ExecuteTime": {
     "end_time": "2022-04-05T06:55:19.205076Z",
     "start_time": "2022-04-05T06:55:19.176074Z"
    }
   },
   "outputs": [
    {
     "data": {
      "text/html": [
       "<div>\n",
       "<style scoped>\n",
       "    .dataframe tbody tr th:only-of-type {\n",
       "        vertical-align: middle;\n",
       "    }\n",
       "\n",
       "    .dataframe tbody tr th {\n",
       "        vertical-align: top;\n",
       "    }\n",
       "\n",
       "    .dataframe thead th {\n",
       "        text-align: right;\n",
       "    }\n",
       "</style>\n",
       "<table border=\"1\" class=\"dataframe\">\n",
       "  <thead>\n",
       "    <tr style=\"text-align: right;\">\n",
       "      <th></th>\n",
       "      <th>CustomerID</th>\n",
       "      <th>Quantity</th>\n",
       "    </tr>\n",
       "  </thead>\n",
       "  <tbody>\n",
       "    <tr>\n",
       "      <th>count</th>\n",
       "      <td>18396.000000</td>\n",
       "      <td>18396.000000</td>\n",
       "    </tr>\n",
       "    <tr>\n",
       "      <th>mean</th>\n",
       "      <td>15267.299685</td>\n",
       "      <td>21.464775</td>\n",
       "    </tr>\n",
       "    <tr>\n",
       "      <th>std</th>\n",
       "      <td>1733.963238</td>\n",
       "      <td>24.892746</td>\n",
       "    </tr>\n",
       "    <tr>\n",
       "      <th>min</th>\n",
       "      <td>12347.000000</td>\n",
       "      <td>1.000000</td>\n",
       "    </tr>\n",
       "    <tr>\n",
       "      <th>25%</th>\n",
       "      <td>13777.000000</td>\n",
       "      <td>7.000000</td>\n",
       "    </tr>\n",
       "    <tr>\n",
       "      <th>50%</th>\n",
       "      <td>15174.500000</td>\n",
       "      <td>15.000000</td>\n",
       "    </tr>\n",
       "    <tr>\n",
       "      <th>75%</th>\n",
       "      <td>16779.000000</td>\n",
       "      <td>27.000000</td>\n",
       "    </tr>\n",
       "    <tr>\n",
       "      <th>max</th>\n",
       "      <td>18287.000000</td>\n",
       "      <td>542.000000</td>\n",
       "    </tr>\n",
       "  </tbody>\n",
       "</table>\n",
       "</div>"
      ],
      "text/plain": [
       "         CustomerID      Quantity\n",
       "count  18396.000000  18396.000000\n",
       "mean   15267.299685     21.464775\n",
       "std     1733.963238     24.892746\n",
       "min    12347.000000      1.000000\n",
       "25%    13777.000000      7.000000\n",
       "50%    15174.500000     15.000000\n",
       "75%    16779.000000     27.000000\n",
       "max    18287.000000    542.000000"
      ]
     },
     "execution_count": 520,
     "metadata": {},
     "output_type": "execute_result"
    }
   ],
   "source": [
    "customer_invoice_quantity_.describe()"
   ]
  },
  {
   "cell_type": "code",
   "execution_count": 527,
   "id": "5cd55470",
   "metadata": {
    "ExecuteTime": {
     "end_time": "2022-04-05T07:03:01.402330Z",
     "start_time": "2022-04-05T07:03:01.376323Z"
    }
   },
   "outputs": [
    {
     "data": {
      "text/html": [
       "<div>\n",
       "<style scoped>\n",
       "    .dataframe tbody tr th:only-of-type {\n",
       "        vertical-align: middle;\n",
       "    }\n",
       "\n",
       "    .dataframe tbody tr th {\n",
       "        vertical-align: top;\n",
       "    }\n",
       "\n",
       "    .dataframe thead th {\n",
       "        text-align: right;\n",
       "    }\n",
       "</style>\n",
       "<table border=\"1\" class=\"dataframe\">\n",
       "  <thead>\n",
       "    <tr style=\"text-align: right;\">\n",
       "      <th></th>\n",
       "      <th>CustomerID</th>\n",
       "      <th>InvoiceNo</th>\n",
       "      <th>Quantity</th>\n",
       "    </tr>\n",
       "  </thead>\n",
       "  <tbody>\n",
       "    <tr>\n",
       "      <th>10</th>\n",
       "      <td>12348.0</td>\n",
       "      <td>568172</td>\n",
       "      <td>3</td>\n",
       "    </tr>\n",
       "    <tr>\n",
       "      <th>15</th>\n",
       "      <td>12352.0</td>\n",
       "      <td>545332</td>\n",
       "      <td>2</td>\n",
       "    </tr>\n",
       "    <tr>\n",
       "      <th>14</th>\n",
       "      <td>12352.0</td>\n",
       "      <td>545323</td>\n",
       "      <td>4</td>\n",
       "    </tr>\n",
       "    <tr>\n",
       "      <th>16</th>\n",
       "      <td>12352.0</td>\n",
       "      <td>546869</td>\n",
       "      <td>1</td>\n",
       "    </tr>\n",
       "    <tr>\n",
       "      <th>21</th>\n",
       "      <td>12353.0</td>\n",
       "      <td>553900</td>\n",
       "      <td>4</td>\n",
       "    </tr>\n",
       "    <tr>\n",
       "      <th>...</th>\n",
       "      <td>...</td>\n",
       "      <td>...</td>\n",
       "      <td>...</td>\n",
       "    </tr>\n",
       "    <tr>\n",
       "      <th>18368</th>\n",
       "      <td>18273.0</td>\n",
       "      <td>565480</td>\n",
       "      <td>1</td>\n",
       "    </tr>\n",
       "    <tr>\n",
       "      <th>18369</th>\n",
       "      <td>18273.0</td>\n",
       "      <td>581136</td>\n",
       "      <td>1</td>\n",
       "    </tr>\n",
       "    <tr>\n",
       "      <th>18389</th>\n",
       "      <td>18283.0</td>\n",
       "      <td>575675</td>\n",
       "      <td>1</td>\n",
       "    </tr>\n",
       "    <tr>\n",
       "      <th>18385</th>\n",
       "      <td>18283.0</td>\n",
       "      <td>560032</td>\n",
       "      <td>1</td>\n",
       "    </tr>\n",
       "    <tr>\n",
       "      <th>18395</th>\n",
       "      <td>18287.0</td>\n",
       "      <td>573167</td>\n",
       "      <td>3</td>\n",
       "    </tr>\n",
       "  </tbody>\n",
       "</table>\n",
       "<p>3323 rows × 3 columns</p>\n",
       "</div>"
      ],
      "text/plain": [
       "       CustomerID InvoiceNo  Quantity\n",
       "10        12348.0    568172         3\n",
       "15        12352.0    545332         2\n",
       "14        12352.0    545323         4\n",
       "16        12352.0    546869         1\n",
       "21        12353.0    553900         4\n",
       "...           ...       ...       ...\n",
       "18368     18273.0    565480         1\n",
       "18369     18273.0    581136         1\n",
       "18389     18283.0    575675         1\n",
       "18385     18283.0    560032         1\n",
       "18395     18287.0    573167         3\n",
       "\n",
       "[3323 rows x 3 columns]"
      ]
     },
     "metadata": {},
     "output_type": "display_data"
    },
    {
     "name": "stdout",
     "output_type": "stream",
     "text": [
      "18.06% of transaction are happened with less number of items purchase below 5 products\n"
     ]
    }
   ],
   "source": [
    "customers_invoice_less_items=customer_invoice_quantity_[customer_invoice_quantity_[\"Quantity\"]<5]\n",
    "display(customers_invoice_less_items)\n",
    "percentage_less_item_transaction=customers_invoice_less_items.shape[0]/customer_invoice_quantity_.shape[0]*100\n",
    "print(f'{np.round(percentage_less_item_transaction,2)}% of transaction are happened with less number of items purchase below 5 products')"
   ]
  },
  {
   "cell_type": "markdown",
   "id": "f4c32db8",
   "metadata": {},
   "source": [
    "- There are around approx 3320 out of 18400 transactions customers have made just to purchase less than 5 product"
   ]
  },
  {
   "cell_type": "code",
   "execution_count": 533,
   "id": "03b16cd9",
   "metadata": {
    "ExecuteTime": {
     "end_time": "2022-04-05T07:28:18.802677Z",
     "start_time": "2022-04-05T07:28:18.759706Z"
    }
   },
   "outputs": [
    {
     "data": {
      "text/html": [
       "<div>\n",
       "<style scoped>\n",
       "    .dataframe tbody tr th:only-of-type {\n",
       "        vertical-align: middle;\n",
       "    }\n",
       "\n",
       "    .dataframe tbody tr th {\n",
       "        vertical-align: top;\n",
       "    }\n",
       "\n",
       "    .dataframe thead th {\n",
       "        text-align: right;\n",
       "    }\n",
       "</style>\n",
       "<table border=\"1\" class=\"dataframe\">\n",
       "  <thead>\n",
       "    <tr style=\"text-align: right;\">\n",
       "      <th></th>\n",
       "      <th>CustomerID</th>\n",
       "      <th>InvoiceNo</th>\n",
       "      <th>Quantity</th>\n",
       "    </tr>\n",
       "  </thead>\n",
       "  <tbody>\n",
       "    <tr>\n",
       "      <th>11</th>\n",
       "      <td>12349.0</td>\n",
       "      <td>577609</td>\n",
       "      <td>73</td>\n",
       "    </tr>\n",
       "    <tr>\n",
       "      <th>22</th>\n",
       "      <td>12354.0</td>\n",
       "      <td>550911</td>\n",
       "      <td>58</td>\n",
       "    </tr>\n",
       "    <tr>\n",
       "      <th>27</th>\n",
       "      <td>12357.0</td>\n",
       "      <td>574740</td>\n",
       "      <td>131</td>\n",
       "    </tr>\n",
       "    <tr>\n",
       "      <th>33</th>\n",
       "      <td>12359.0</td>\n",
       "      <td>571034</td>\n",
       "      <td>105</td>\n",
       "    </tr>\n",
       "    <tr>\n",
       "      <th>31</th>\n",
       "      <td>12359.0</td>\n",
       "      <td>543370</td>\n",
       "      <td>79</td>\n",
       "    </tr>\n",
       "    <tr>\n",
       "      <th>...</th>\n",
       "      <td>...</td>\n",
       "      <td>...</td>\n",
       "      <td>...</td>\n",
       "    </tr>\n",
       "    <tr>\n",
       "      <th>18388</th>\n",
       "      <td>18283.0</td>\n",
       "      <td>575668</td>\n",
       "      <td>59</td>\n",
       "    </tr>\n",
       "    <tr>\n",
       "      <th>18377</th>\n",
       "      <td>18283.0</td>\n",
       "      <td>540350</td>\n",
       "      <td>57</td>\n",
       "    </tr>\n",
       "    <tr>\n",
       "      <th>18383</th>\n",
       "      <td>18283.0</td>\n",
       "      <td>557956</td>\n",
       "      <td>87</td>\n",
       "    </tr>\n",
       "    <tr>\n",
       "      <th>18380</th>\n",
       "      <td>18283.0</td>\n",
       "      <td>550957</td>\n",
       "      <td>56</td>\n",
       "    </tr>\n",
       "    <tr>\n",
       "      <th>18384</th>\n",
       "      <td>18283.0</td>\n",
       "      <td>560025</td>\n",
       "      <td>56</td>\n",
       "    </tr>\n",
       "  </tbody>\n",
       "</table>\n",
       "<p>1636 rows × 3 columns</p>\n",
       "</div>"
      ],
      "text/plain": [
       "       CustomerID InvoiceNo  Quantity\n",
       "11        12349.0    577609        73\n",
       "22        12354.0    550911        58\n",
       "27        12357.0    574740       131\n",
       "33        12359.0    571034       105\n",
       "31        12359.0    543370        79\n",
       "...           ...       ...       ...\n",
       "18388     18283.0    575668        59\n",
       "18377     18283.0    540350        57\n",
       "18383     18283.0    557956        87\n",
       "18380     18283.0    550957        56\n",
       "18384     18283.0    560025        56\n",
       "\n",
       "[1636 rows x 3 columns]"
      ]
     },
     "metadata": {},
     "output_type": "display_data"
    },
    {
     "name": "stdout",
     "output_type": "stream",
     "text": [
      "8.89% of transaction are happened with more number of items purchase above 50 products\n"
     ]
    }
   ],
   "source": [
    "customers_invoice_more_items=customer_invoice_quantity_[customer_invoice_quantity_[\"Quantity\"]>50]\n",
    "display(customers_invoice_more_items)\n",
    "percentage_more_item_transaction=customers_invoice_more_items.shape[0]/customer_invoice_quantity_.shape[0]*100\n",
    "print(f'{np.round(percentage_more_item_transaction,2)}% of transaction are happened with more number of items purchase above 50 products')"
   ]
  },
  {
   "cell_type": "markdown",
   "id": "8f2ddc81",
   "metadata": {},
   "source": [
    "- 1600 transaction out of 18000 transactions approx 8 % of transaction has happened with maximum purchases more than 50 products"
   ]
  },
  {
   "cell_type": "code",
   "execution_count": 580,
   "id": "688d3b90",
   "metadata": {
    "ExecuteTime": {
     "end_time": "2022-04-05T08:05:12.751855Z",
     "start_time": "2022-04-05T08:05:12.535374Z"
    }
   },
   "outputs": [
    {
     "data": {
      "text/plain": [
       "<AxesSubplot:ylabel='Frequency'>"
      ]
     },
     "execution_count": 580,
     "metadata": {},
     "output_type": "execute_result"
    },
    {
     "data": {
      "image/png": "[encoded data removed]",
      "text/plain": [
       "<Figure size 432x288 with 1 Axes>"
      ]
     },
     "metadata": {
      "needs_background": "light"
     },
     "output_type": "display_data"
    }
   ],
   "source": [
    "customer_invoice_quantity_[\"Quantity\"].plot.hist()"
   ]
  },
  {
   "cell_type": "code",
   "execution_count": null,
   "id": "430efac2",
   "metadata": {
    "ExecuteTime": {
     "end_time": "2022-04-05T07:59:46.107132Z",
     "start_time": "2022-04-05T07:59:46.064156Z"
    }
   },
   "outputs": [],
   "source": [
    "customer_invoice_quantity_[customer_invoice_quantity_[\"Segment\"]==0].describe()"
   ]
  },
  {
   "cell_type": "code",
   "execution_count": 192,
   "id": "22817f38",
   "metadata": {
    "ExecuteTime": {
     "end_time": "2022-04-04T11:45:22.473151Z",
     "start_time": "2022-04-04T11:45:22.437170Z"
    }
   },
   "outputs": [
    {
     "data": {
      "text/html": [
       "<div>\n",
       "<style scoped>\n",
       "    .dataframe tbody tr th:only-of-type {\n",
       "        vertical-align: middle;\n",
       "    }\n",
       "\n",
       "    .dataframe tbody tr th {\n",
       "        vertical-align: top;\n",
       "    }\n",
       "\n",
       "    .dataframe thead th {\n",
       "        text-align: right;\n",
       "    }\n",
       "</style>\n",
       "<table border=\"1\" class=\"dataframe\">\n",
       "  <thead>\n",
       "    <tr style=\"text-align: right;\">\n",
       "      <th></th>\n",
       "      <th>Quantity</th>\n",
       "      <th>UnitPrice</th>\n",
       "      <th>CustomerID</th>\n",
       "      <th>Total_Cost</th>\n",
       "      <th>Customer_Count</th>\n",
       "      <th>Average</th>\n",
       "    </tr>\n",
       "    <tr>\n",
       "      <th>Description</th>\n",
       "      <th></th>\n",
       "      <th></th>\n",
       "      <th></th>\n",
       "      <th></th>\n",
       "      <th></th>\n",
       "      <th></th>\n",
       "    </tr>\n",
       "  </thead>\n",
       "  <tbody>\n",
       "    <tr>\n",
       "      <th>REGENCY CAKESTAND 3 TIER</th>\n",
       "      <td>11555</td>\n",
       "      <td>23678.05</td>\n",
       "      <td>28473438.0</td>\n",
       "      <td>132870.40</td>\n",
       "      <td>1905</td>\n",
       "      <td>69.748241</td>\n",
       "    </tr>\n",
       "    <tr>\n",
       "      <th>WHITE HANGING HEART T-LIGHT HOLDER</th>\n",
       "      <td>34147</td>\n",
       "      <td>5985.12</td>\n",
       "      <td>32213017.0</td>\n",
       "      <td>93823.85</td>\n",
       "      <td>2070</td>\n",
       "      <td>45.325531</td>\n",
       "    </tr>\n",
       "    <tr>\n",
       "      <th>JUMBO BAG RED RETROSPOT</th>\n",
       "      <td>45066</td>\n",
       "      <td>3345.70</td>\n",
       "      <td>25396253.0</td>\n",
       "      <td>83236.76</td>\n",
       "      <td>1662</td>\n",
       "      <td>50.082286</td>\n",
       "    </tr>\n",
       "    <tr>\n",
       "      <th>PARTY BUNTING</th>\n",
       "      <td>15027</td>\n",
       "      <td>6897.06</td>\n",
       "      <td>21766527.0</td>\n",
       "      <td>67687.53</td>\n",
       "      <td>1416</td>\n",
       "      <td>47.801928</td>\n",
       "    </tr>\n",
       "    <tr>\n",
       "      <th>POSTAGE</th>\n",
       "      <td>3002</td>\n",
       "      <td>45314.68</td>\n",
       "      <td>15425584.0</td>\n",
       "      <td>66710.24</td>\n",
       "      <td>1196</td>\n",
       "      <td>55.777793</td>\n",
       "    </tr>\n",
       "    <tr>\n",
       "      <th>...</th>\n",
       "      <td>...</td>\n",
       "      <td>...</td>\n",
       "      <td>...</td>\n",
       "      <td>...</td>\n",
       "      <td>...</td>\n",
       "      <td>...</td>\n",
       "    </tr>\n",
       "    <tr>\n",
       "      <th>WHITE CHERRY LIGHTS</th>\n",
       "      <td>-8</td>\n",
       "      <td>6.75</td>\n",
       "      <td>15831.0</td>\n",
       "      <td>-54.00</td>\n",
       "      <td>1</td>\n",
       "      <td>-54.000000</td>\n",
       "    </tr>\n",
       "    <tr>\n",
       "      <th>CHALKBOARD KITCHEN ORGANISER</th>\n",
       "      <td>-4</td>\n",
       "      <td>118.75</td>\n",
       "      <td>76808.0</td>\n",
       "      <td>-87.80</td>\n",
       "      <td>5</td>\n",
       "      <td>-17.560000</td>\n",
       "    </tr>\n",
       "    <tr>\n",
       "      <th>Discount</th>\n",
       "      <td>-1194</td>\n",
       "      <td>5581.31</td>\n",
       "      <td>1149366.0</td>\n",
       "      <td>-5696.22</td>\n",
       "      <td>77</td>\n",
       "      <td>-73.976883</td>\n",
       "    </tr>\n",
       "    <tr>\n",
       "      <th>CRUK Commission</th>\n",
       "      <td>-16</td>\n",
       "      <td>7933.43</td>\n",
       "      <td>225536.0</td>\n",
       "      <td>-7933.43</td>\n",
       "      <td>16</td>\n",
       "      <td>-495.839375</td>\n",
       "    </tr>\n",
       "    <tr>\n",
       "      <th>Manual</th>\n",
       "      <td>3184</td>\n",
       "      <td>155507.92</td>\n",
       "      <td>7102962.0</td>\n",
       "      <td>-58385.46</td>\n",
       "      <td>465</td>\n",
       "      <td>-125.560129</td>\n",
       "    </tr>\n",
       "  </tbody>\n",
       "</table>\n",
       "<p>3896 rows × 6 columns</p>\n",
       "</div>"
      ],
      "text/plain": [
       "                                    Quantity  UnitPrice  CustomerID  \\\n",
       "Description                                                           \n",
       "REGENCY CAKESTAND 3 TIER               11555   23678.05  28473438.0   \n",
       "WHITE HANGING HEART T-LIGHT HOLDER     34147    5985.12  32213017.0   \n",
       "JUMBO BAG RED RETROSPOT                45066    3345.70  25396253.0   \n",
       "PARTY BUNTING                          15027    6897.06  21766527.0   \n",
       "POSTAGE                                 3002   45314.68  15425584.0   \n",
       "...                                      ...        ...         ...   \n",
       "WHITE CHERRY LIGHTS                       -8       6.75     15831.0   \n",
       "CHALKBOARD KITCHEN ORGANISER              -4     118.75     76808.0   \n",
       "Discount                               -1194    5581.31   1149366.0   \n",
       "CRUK Commission                          -16    7933.43    225536.0   \n",
       "Manual                                  3184  155507.92   7102962.0   \n",
       "\n",
       "                                    Total_Cost  Customer_Count     Average  \n",
       "Description                                                                 \n",
       "REGENCY CAKESTAND 3 TIER             132870.40            1905   69.748241  \n",
       "WHITE HANGING HEART T-LIGHT HOLDER    93823.85            2070   45.325531  \n",
       "JUMBO BAG RED RETROSPOT               83236.76            1662   50.082286  \n",
       "PARTY BUNTING                         67687.53            1416   47.801928  \n",
       "POSTAGE                               66710.24            1196   55.777793  \n",
       "...                                        ...             ...         ...  \n",
       "WHITE CHERRY LIGHTS                     -54.00               1  -54.000000  \n",
       "CHALKBOARD KITCHEN ORGANISER            -87.80               5  -17.560000  \n",
       "Discount                              -5696.22              77  -73.976883  \n",
       "CRUK Commission                       -7933.43              16 -495.839375  \n",
       "Manual                               -58385.46             465 -125.560129  \n",
       "\n",
       "[3896 rows x 6 columns]"
      ]
     },
     "execution_count": 192,
     "metadata": {},
     "output_type": "execute_result"
    }
   ],
   "source": [
    "top_10_revenue_from_items.sort_values(\"Total_Cost\",ascending=False)"
   ]
  },
  {
   "cell_type": "code",
   "execution_count": 189,
   "id": "48c64937",
   "metadata": {
    "ExecuteTime": {
     "end_time": "2022-04-04T10:51:51.366715Z",
     "start_time": "2022-04-04T10:51:51.022995Z"
    }
   },
   "outputs": [
    {
     "data": {
      "text/html": [
       "<div>\n",
       "<style scoped>\n",
       "    .dataframe tbody tr th:only-of-type {\n",
       "        vertical-align: middle;\n",
       "    }\n",
       "\n",
       "    .dataframe tbody tr th {\n",
       "        vertical-align: top;\n",
       "    }\n",
       "\n",
       "    .dataframe thead th {\n",
       "        text-align: right;\n",
       "    }\n",
       "</style>\n",
       "<table border=\"1\" class=\"dataframe\">\n",
       "  <thead>\n",
       "    <tr style=\"text-align: right;\">\n",
       "      <th></th>\n",
       "      <th>InvoiceNo</th>\n",
       "      <th>StockCode</th>\n",
       "      <th>Description</th>\n",
       "      <th>Quantity</th>\n",
       "      <th>InvoiceDate</th>\n",
       "      <th>UnitPrice</th>\n",
       "      <th>CustomerID</th>\n",
       "      <th>Country</th>\n",
       "      <th>Total_Cost</th>\n",
       "    </tr>\n",
       "  </thead>\n",
       "  <tbody>\n",
       "    <tr>\n",
       "      <th>0</th>\n",
       "      <td>536365</td>\n",
       "      <td>85123A</td>\n",
       "      <td>WHITE HANGING HEART T-LIGHT HOLDER</td>\n",
       "      <td>6</td>\n",
       "      <td>01-12-2010 08:26</td>\n",
       "      <td>2.55</td>\n",
       "      <td>17850.0</td>\n",
       "      <td>United Kingdom</td>\n",
       "      <td>15.30</td>\n",
       "    </tr>\n",
       "    <tr>\n",
       "      <th>1</th>\n",
       "      <td>536365</td>\n",
       "      <td>71053</td>\n",
       "      <td>WHITE METAL LANTERN</td>\n",
       "      <td>6</td>\n",
       "      <td>01-12-2010 08:26</td>\n",
       "      <td>3.39</td>\n",
       "      <td>17850.0</td>\n",
       "      <td>United Kingdom</td>\n",
       "      <td>20.34</td>\n",
       "    </tr>\n",
       "    <tr>\n",
       "      <th>2</th>\n",
       "      <td>536365</td>\n",
       "      <td>84406B</td>\n",
       "      <td>CREAM CUPID HEARTS COAT HANGER</td>\n",
       "      <td>8</td>\n",
       "      <td>01-12-2010 08:26</td>\n",
       "      <td>2.75</td>\n",
       "      <td>17850.0</td>\n",
       "      <td>United Kingdom</td>\n",
       "      <td>22.00</td>\n",
       "    </tr>\n",
       "    <tr>\n",
       "      <th>3</th>\n",
       "      <td>536365</td>\n",
       "      <td>84029G</td>\n",
       "      <td>KNITTED UNION FLAG HOT WATER BOTTLE</td>\n",
       "      <td>6</td>\n",
       "      <td>01-12-2010 08:26</td>\n",
       "      <td>3.39</td>\n",
       "      <td>17850.0</td>\n",
       "      <td>United Kingdom</td>\n",
       "      <td>20.34</td>\n",
       "    </tr>\n",
       "    <tr>\n",
       "      <th>4</th>\n",
       "      <td>536365</td>\n",
       "      <td>84029E</td>\n",
       "      <td>RED WOOLLY HOTTIE WHITE HEART.</td>\n",
       "      <td>6</td>\n",
       "      <td>01-12-2010 08:26</td>\n",
       "      <td>3.39</td>\n",
       "      <td>17850.0</td>\n",
       "      <td>United Kingdom</td>\n",
       "      <td>20.34</td>\n",
       "    </tr>\n",
       "    <tr>\n",
       "      <th>...</th>\n",
       "      <td>...</td>\n",
       "      <td>...</td>\n",
       "      <td>...</td>\n",
       "      <td>...</td>\n",
       "      <td>...</td>\n",
       "      <td>...</td>\n",
       "      <td>...</td>\n",
       "      <td>...</td>\n",
       "      <td>...</td>\n",
       "    </tr>\n",
       "    <tr>\n",
       "      <th>541904</th>\n",
       "      <td>581587</td>\n",
       "      <td>22613</td>\n",
       "      <td>PACK OF 20 SPACEBOY NAPKINS</td>\n",
       "      <td>12</td>\n",
       "      <td>09-12-2011 12:50</td>\n",
       "      <td>0.85</td>\n",
       "      <td>12680.0</td>\n",
       "      <td>France</td>\n",
       "      <td>10.20</td>\n",
       "    </tr>\n",
       "    <tr>\n",
       "      <th>541905</th>\n",
       "      <td>581587</td>\n",
       "      <td>22899</td>\n",
       "      <td>CHILDREN'S APRON DOLLY GIRL</td>\n",
       "      <td>6</td>\n",
       "      <td>09-12-2011 12:50</td>\n",
       "      <td>2.10</td>\n",
       "      <td>12680.0</td>\n",
       "      <td>France</td>\n",
       "      <td>12.60</td>\n",
       "    </tr>\n",
       "    <tr>\n",
       "      <th>541906</th>\n",
       "      <td>581587</td>\n",
       "      <td>23254</td>\n",
       "      <td>CHILDRENS CUTLERY DOLLY GIRL</td>\n",
       "      <td>4</td>\n",
       "      <td>09-12-2011 12:50</td>\n",
       "      <td>4.15</td>\n",
       "      <td>12680.0</td>\n",
       "      <td>France</td>\n",
       "      <td>16.60</td>\n",
       "    </tr>\n",
       "    <tr>\n",
       "      <th>541907</th>\n",
       "      <td>581587</td>\n",
       "      <td>23255</td>\n",
       "      <td>CHILDRENS CUTLERY CIRCUS PARADE</td>\n",
       "      <td>4</td>\n",
       "      <td>09-12-2011 12:50</td>\n",
       "      <td>4.15</td>\n",
       "      <td>12680.0</td>\n",
       "      <td>France</td>\n",
       "      <td>16.60</td>\n",
       "    </tr>\n",
       "    <tr>\n",
       "      <th>541908</th>\n",
       "      <td>581587</td>\n",
       "      <td>22138</td>\n",
       "      <td>BAKING SET 9 PIECE RETROSPOT</td>\n",
       "      <td>3</td>\n",
       "      <td>09-12-2011 12:50</td>\n",
       "      <td>4.95</td>\n",
       "      <td>12680.0</td>\n",
       "      <td>France</td>\n",
       "      <td>14.85</td>\n",
       "    </tr>\n",
       "  </tbody>\n",
       "</table>\n",
       "<p>397924 rows × 9 columns</p>\n",
       "</div>"
      ],
      "text/plain": [
       "       InvoiceNo StockCode                          Description  Quantity  \\\n",
       "0         536365    85123A   WHITE HANGING HEART T-LIGHT HOLDER         6   \n",
       "1         536365     71053                  WHITE METAL LANTERN         6   \n",
       "2         536365    84406B       CREAM CUPID HEARTS COAT HANGER         8   \n",
       "3         536365    84029G  KNITTED UNION FLAG HOT WATER BOTTLE         6   \n",
       "4         536365    84029E       RED WOOLLY HOTTIE WHITE HEART.         6   \n",
       "...          ...       ...                                  ...       ...   \n",
       "541904    581587     22613          PACK OF 20 SPACEBOY NAPKINS        12   \n",
       "541905    581587     22899         CHILDREN'S APRON DOLLY GIRL          6   \n",
       "541906    581587     23254        CHILDRENS CUTLERY DOLLY GIRL          4   \n",
       "541907    581587     23255      CHILDRENS CUTLERY CIRCUS PARADE         4   \n",
       "541908    581587     22138        BAKING SET 9 PIECE RETROSPOT          3   \n",
       "\n",
       "             InvoiceDate  UnitPrice  CustomerID         Country  Total_Cost  \n",
       "0       01-12-2010 08:26       2.55     17850.0  United Kingdom       15.30  \n",
       "1       01-12-2010 08:26       3.39     17850.0  United Kingdom       20.34  \n",
       "2       01-12-2010 08:26       2.75     17850.0  United Kingdom       22.00  \n",
       "3       01-12-2010 08:26       3.39     17850.0  United Kingdom       20.34  \n",
       "4       01-12-2010 08:26       3.39     17850.0  United Kingdom       20.34  \n",
       "...                  ...        ...         ...             ...         ...  \n",
       "541904  09-12-2011 12:50       0.85     12680.0          France       10.20  \n",
       "541905  09-12-2011 12:50       2.10     12680.0          France       12.60  \n",
       "541906  09-12-2011 12:50       4.15     12680.0          France       16.60  \n",
       "541907  09-12-2011 12:50       4.15     12680.0          France       16.60  \n",
       "541908  09-12-2011 12:50       4.95     12680.0          France       14.85  \n",
       "\n",
       "[397924 rows x 9 columns]"
      ]
     },
     "execution_count": 189,
     "metadata": {},
     "output_type": "execute_result"
    }
   ],
   "source": [
    "customer_data[~ customer_data[\"InvoiceNo\"].str.contains(\"C|c\")]"
   ]
  },
  {
   "cell_type": "code",
   "execution_count": null,
   "id": "7874c28c",
   "metadata": {},
   "outputs": [],
   "source": []
  }
 ],
 "metadata": {
  "kernelspec": {
   "display_name": "Python 3 (ipykernel)",
   "language": "python",
   "name": "python3"
  },
  "language_info": {
   "codemirror_mode": {
    "name": "ipython",
    "version": 3
   },
   "file_extension": ".py",
   "mimetype": "text/x-python",
   "name": "python",
   "nbconvert_exporter": "python",
   "pygments_lexer": "ipython3",
   "version": "3.9.7"
  },
  "nbTranslate": {
   "displayLangs": [
    "*"
   ],
   "hotkey": "alt-t",
   "langInMainMenu": true,
   "sourceLang": "en",
   "targetLang": "fr",
   "useGoogleTranslate": true
  },
  "varInspector": {
   "cols": {
    "lenName": 16,
    "lenType": 16,
    "lenVar": 40
   },
   "kernels_config": {
    "python": {
     "delete_cmd_postfix": "",
     "delete_cmd_prefix": "del ",
     "library": "var_list.py",
     "varRefreshCmd": "print(var_dic_list())"
    },
    "r": {
     "delete_cmd_postfix": ") ",
     "delete_cmd_prefix": "rm(",
     "library": "var_list.r",
     "varRefreshCmd": "cat(var_dic_list()) "
    }
   },
   "types_to_exclude": [
    "module",
    "function",
    "builtin_function_or_method",
    "instance",
    "_Feature"
   ],
   "window_display": false
  }
 },
 "nbformat": 4,
 "nbformat_minor": 5
}
